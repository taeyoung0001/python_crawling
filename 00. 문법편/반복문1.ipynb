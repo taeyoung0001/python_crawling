{
 "cells": [
  {
   "cell_type": "code",
   "execution_count": null,
   "metadata": {},
   "outputs": [],
   "source": [
    "# for ... in 문"
   ]
  },
  {
   "cell_type": "code",
   "execution_count": null,
   "metadata": {},
   "outputs": [],
   "source": [
    "# 1번\n",
    "# range(n)은 n-1 까지 가져옴\n",
    "for 변수 in range(3):\n",
    "    print(\"1번\",\"하이\")\n",
    "\n",
    "# 2번\n",
    "for i in range(1,4):\n",
    "    print(\"2번\",i)\n",
    "\n",
    "# 3번\n",
    "# 1~9까지 2단계씩 건너 뜀\n",
    "for i in range(1,10,3):\n",
    "    print(\"3번\",i)"
   ]
  },
  {
   "cell_type": "code",
   "execution_count": null,
   "metadata": {},
   "outputs": [],
   "source": [
    "# \\n 은 줄바꿈 \n",
    "for i in range(1,4):\n",
    "    print(f\"{i}번째 강아지\")\n",
    "    print(\"강아지를 위한 장난감 준비 중\")\n",
    "    print(\"장난감 준비 완료\\n\")"
   ]
  },
  {
   "cell_type": "code",
   "execution_count": null,
   "metadata": {},
   "outputs": [
    {
     "data": {
      "text/plain": [
       "55"
      ]
     },
     "execution_count": 51,
     "metadata": {},
     "output_type": "execute_result"
    }
   ],
   "source": [
    "# 도전 문제\n",
    "# for문을 사용해서 1부터 10까지 합계를 계산해주는 프로그램을 작성해보자\n",
    "total = []\n",
    "for i in range(1, 11):\n",
    "    total.append(i)\n",
    "\n",
    "sum(total)"
   ]
  }
 ],
 "metadata": {
  "kernelspec": {
   "display_name": "Python 3",
   "language": "python",
   "name": "python3"
  },
  "language_info": {
   "codemirror_mode": {
    "name": "ipython",
    "version": 3
   },
   "file_extension": ".py",
   "mimetype": "text/x-python",
   "name": "python",
   "nbconvert_exporter": "python",
   "pygments_lexer": "ipython3",
   "version": "3.13.0"
  }
 },
 "nbformat": 4,
 "nbformat_minor": 2
}
