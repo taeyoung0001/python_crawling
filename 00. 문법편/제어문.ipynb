{
 "cells": [
  {
   "cell_type": "code",
   "execution_count": null,
   "metadata": {},
   "outputs": [
    {
     "name": "stdout",
     "output_type": "stream",
     "text": [
      "비밀번호를 입력하세요\n"
     ]
    }
   ],
   "source": [
    "origin_pass = '1234'\n",
    "input_pass = input()\n",
    "if origin_pass == input_pass:\n",
    "    print(\"로그인 성공\")\n",
    "elif input_pass == \"\":\n",
    "    print(\"비밀번호를 입력하세요\")\n",
    "else:\n",
    "    print(\"로그인 실패\")"
   ]
  },
  {
   "cell_type": "code",
   "execution_count": null,
   "metadata": {},
   "outputs": [
    {
     "name": "stdout",
     "output_type": "stream",
     "text": [
      "수익창출이 가능합니다\n"
     ]
    }
   ],
   "source": [
    "# 실습문제 1 \n",
    "# 유튜브 수익창출은 1000명 부터라는 조건 if문\n",
    "subLimit = 1000 \n",
    "yourSub = input()\n",
    "\n",
    "if subLimit > int(yourSub):\n",
    "    print(\"수익창출이 불가합니다\") \n",
    "else:\n",
    "    print(\"수익창출이 가능합니다\")"
   ]
  },
  {
   "cell_type": "code",
   "execution_count": 7,
   "metadata": {},
   "outputs": [
    {
     "name": "stdout",
     "output_type": "stream",
     "text": [
      "휴대폰 사용이 불가능합니다\n"
     ]
    }
   ],
   "source": [
    "# 실습문제 2\n",
    "# 공부 시간을 채워야지만 휴대폰 사용 가능 프로그램 만들기 if문\n",
    "\n",
    "# 1.인풋 창에 시간을 입력하게한다 (공부시간이다)\n",
    "# 2.시간 별로 if문을 만든다\n",
    "\n",
    "studyTime = int(input())\n",
    "if studyTime >= 10:\n",
    "    print(\"휴대폰잠금이 해제됩니다\")\n",
    "elif studyTime >= 5:\n",
    "    print('휴대폰 30분 사용 가능')\n",
    "else:\n",
    "    print('휴대폰 사용이 불가능합니다')\n"
   ]
  }
 ],
 "metadata": {
  "kernelspec": {
   "display_name": "Python 3",
   "language": "python",
   "name": "python3"
  },
  "language_info": {
   "codemirror_mode": {
    "name": "ipython",
    "version": 3
   },
   "file_extension": ".py",
   "mimetype": "text/x-python",
   "name": "python",
   "nbconvert_exporter": "python",
   "pygments_lexer": "ipython3",
   "version": "3.13.0"
  }
 },
 "nbformat": 4,
 "nbformat_minor": 2
}
