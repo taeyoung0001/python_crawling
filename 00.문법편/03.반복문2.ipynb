{
 "cells": [
  {
   "cell_type": "code",
   "execution_count": null,
   "metadata": {},
   "outputs": [],
   "source": [
    "# while 조건:\n",
    "# https://www.youtube.com/watch?v=cZVOluN1rrc 1:40 볼 차례"
   ]
  }
 ],
 "metadata": {
  "language_info": {
   "name": "python"
  }
 },
 "nbformat": 4,
 "nbformat_minor": 2
}
