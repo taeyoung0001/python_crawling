{
 "cells": [
  {
   "cell_type": "code",
   "execution_count": 2,
   "metadata": {},
   "outputs": [
    {
     "name": "stdout",
     "output_type": "stream",
     "text": [
      "Collecting pandasNote: you may need to restart the kernel to use updated packages.\n",
      "\n",
      "  Downloading pandas-2.2.3-cp313-cp313-win_amd64.whl.metadata (19 kB)\n",
      "Collecting numpy>=1.26.0 (from pandas)\n",
      "  Downloading numpy-2.1.3-cp313-cp313-win_amd64.whl.metadata (60 kB)\n",
      "Requirement already satisfied: python-dateutil>=2.8.2 in c:\\users\\pc\\appdata\\roaming\\python\\python313\\site-packages (from pandas) (2.9.0.post0)\n",
      "Collecting pytz>=2020.1 (from pandas)\n",
      "  Downloading pytz-2024.2-py2.py3-none-any.whl.metadata (22 kB)\n",
      "Collecting tzdata>=2022.7 (from pandas)\n",
      "  Downloading tzdata-2024.2-py2.py3-none-any.whl.metadata (1.4 kB)\n",
      "Requirement already satisfied: six>=1.5 in c:\\users\\pc\\appdata\\roaming\\python\\python313\\site-packages (from python-dateutil>=2.8.2->pandas) (1.16.0)\n",
      "Downloading pandas-2.2.3-cp313-cp313-win_amd64.whl (11.5 MB)\n",
      "   ---------------------------------------- 0.0/11.5 MB ? eta -:--:--\n",
      "   -------------- ------------------------- 4.2/11.5 MB 21.6 MB/s eta 0:00:01\n",
      "   --------------------------------- ------ 9.7/11.5 MB 23.7 MB/s eta 0:00:01\n",
      "   ---------------------------------------- 11.5/11.5 MB 22.0 MB/s eta 0:00:00\n",
      "Downloading numpy-2.1.3-cp313-cp313-win_amd64.whl (12.6 MB)\n",
      "   ---------------------------------------- 0.0/12.6 MB ? eta -:--:--\n",
      "   ---------------- ----------------------- 5.2/12.6 MB 25.4 MB/s eta 0:00:01\n",
      "   ---------------------- ----------------- 7.1/12.6 MB 18.4 MB/s eta 0:00:01\n",
      "   ---------------------------------------  12.3/12.6 MB 20.6 MB/s eta 0:00:01\n",
      "   ---------------------------------------- 12.6/12.6 MB 19.2 MB/s eta 0:00:00\n",
      "Downloading pytz-2024.2-py2.py3-none-any.whl (508 kB)\n",
      "Downloading tzdata-2024.2-py2.py3-none-any.whl (346 kB)\n",
      "Installing collected packages: pytz, tzdata, numpy, pandas\n",
      "Successfully installed numpy-2.1.3 pandas-2.2.3 pytz-2024.2 tzdata-2024.2\n"
     ]
    },
    {
     "name": "stderr",
     "output_type": "stream",
     "text": [
      "\n",
      "[notice] A new release of pip is available: 24.2 -> 24.3.1\n",
      "[notice] To update, run: python.exe -m pip install --upgrade pip\n"
     ]
    }
   ],
   "source": [
    "pip install pandas"
   ]
  },
  {
   "cell_type": "code",
   "execution_count": 3,
   "metadata": {},
   "outputs": [
    {
     "name": "stdout",
     "output_type": "stream",
     "text": [
      "Collecting openpyxl\n",
      "  Downloading openpyxl-3.1.5-py2.py3-none-any.whl.metadata (2.5 kB)\n",
      "Collecting et-xmlfile (from openpyxl)\n",
      "  Downloading et_xmlfile-2.0.0-py3-none-any.whl.metadata (2.7 kB)\n",
      "Downloading openpyxl-3.1.5-py2.py3-none-any.whl (250 kB)\n",
      "Downloading et_xmlfile-2.0.0-py3-none-any.whl (18 kB)\n",
      "Installing collected packages: et-xmlfile, openpyxl\n",
      "Successfully installed et-xmlfile-2.0.0 openpyxl-3.1.5\n",
      "Note: you may need to restart the kernel to use updated packages.\n"
     ]
    },
    {
     "name": "stderr",
     "output_type": "stream",
     "text": [
      "\n",
      "[notice] A new release of pip is available: 24.2 -> 24.3.1\n",
      "[notice] To update, run: python.exe -m pip install --upgrade pip\n"
     ]
    }
   ],
   "source": [
    "pip install openpyxl"
   ]
  },
  {
   "cell_type": "code",
   "execution_count": 17,
   "metadata": {},
   "outputs": [
    {
     "data": {
      "text/plain": [
       "[['카테고리1', '상품명1링크1', '가격1'],\n",
       " ['카테고리2', '상품명2링크2', '가격2'],\n",
       " ['카테고리10', '상품명1링크1', '가격10']]"
      ]
     },
     "execution_count": 17,
     "metadata": {},
     "output_type": "execute_result"
    }
   ],
   "source": [
    "\n",
    "data= []\n",
    "data.append(['카테고리1','상품명1' '링크1', '가격1'],)\n",
    "data.append(['카테고리2','상품명2' '링크2', '가격2'],)\n",
    "data.append(['카테고리10','상품명1' '링크1', '가격10'],)\n",
    "\n",
    "data"
   ]
  },
  {
   "cell_type": "code",
   "execution_count": 1,
   "metadata": {},
   "outputs": [
    {
     "name": "stdout",
     "output_type": "stream",
     "text": [
      "노트북 에이서 스위프트 GO 16 OLED, 스틸 그레이, 코어i7, 512GB, 16GB, WIN11 Home, SFG16-71-77FT #product1_detail.html 1419000\n",
      "노트북 삼성전자 노트북 플러스2 15.6, 퓨어 화이트, NT550XDA-K24AT, 펜티엄, 256GB, 8GB, WIN11 Pro #product2_detail.html 549000\n",
      "노트북 레노버 아이디어패드 슬림 1 15AMN7 15.6, 256GB, Free DOS, 82VG002EKR, 라이젠3, Cloud Grey (82VG), 8GB #product3_detail.html 529000\n",
      "노트북 레노버 V15 G4 AMN 15.6, Arctic Grey, 라이젠3, 256GB, 8GB, WIN11 Home, 82YU0009KR #product4_detail.html 624000\n",
      "노트북 LG 울트라PC 엣지 16, 차콜 그레이, 라이젠5, 256GB, 16GB, WIN11 Home, 16U70R-GA56K #product5_detail.html 1135000\n",
      "노트북 베이직스 베이직북 14 3세대, BB1422SS, 256GB, White, WIN11 Pro, 셀러론, 8GB #product6_detail.html 398000\n",
      "노트북 레노버 아이디어패드 슬림 5i 14IRL 14, Cloud Grey, 코어i5, 512GB, 16GB, Free DOS, 82XD002XKR #product7_detail.html 899000\n",
      "노트북 레노버 아이디어패드 슬림 5 16IRL 16, Cloud Grey, 512GB, 16GB, Free DOS, 82XF001RKR #product8_detail.html 929000\n",
      "노트북 에이서 스위프트 GO 16 OLED, 스틸 그레이, 코어i5, 512GB, 16GB, Free DOS, SFG16-71-51BY #product9_detail.html 1008000\n",
      "노트북 삼성전자 갤럭시북 2 15.6, 500GB, 실버, NT550XED-K78AS, 코어i7, 16GB, WIN11 Home #product10_detail.html 1149000\n",
      "노트북 에이서 스위프트 GO 16 OLED, 스틸 그레이, 코어i7, 512GB, 16GB, WIN11 Home, SFG16-71-77FT #product1_detail.html 1419000\n",
      "노트북 삼성전자 노트북 플러스2 15.6, 퓨어 화이트, NT550XDA-K24AT, 펜티엄, 256GB, 8GB, WIN11 Pro #product2_detail.html 549000\n",
      "노트북 레노버 아이디어패드 슬림 1 15AMN7 15.6, 256GB, Free DOS, 82VG002EKR, 라이젠3, Cloud Grey (82VG), 8GB #product3_detail.html 529000\n",
      "노트북 레노버 V15 G4 AMN 15.6, Arctic Grey, 라이젠3, 256GB, 8GB, WIN11 Home, 82YU0009KR #product4_detail.html 624000\n",
      "노트북 LG 울트라PC 엣지 16, 차콜 그레이, 라이젠5, 256GB, 16GB, WIN11 Home, 16U70R-GA56K #product5_detail.html 1135000\n",
      "노트북 베이직스 베이직북 14 3세대, BB1422SS, 256GB, White, WIN11 Pro, 셀러론, 8GB #product6_detail.html 398000\n",
      "노트북 레노버 아이디어패드 슬림 5i 14IRL 14, Cloud Grey, 코어i5, 512GB, 16GB, Free DOS, 82XD002XKR #product7_detail.html 899000\n",
      "노트북 레노버 아이디어패드 슬림 5 16IRL 16, Cloud Grey, 512GB, 16GB, Free DOS, 82XF001RKR #product8_detail.html 929000\n",
      "노트북 에이서 스위프트 GO 16 OLED, 스틸 그레이, 코어i5, 512GB, 16GB, Free DOS, SFG16-71-51BY #product9_detail.html 1008000\n",
      "노트북 삼성전자 갤럭시북 2 15.6, 500GB, 실버, NT550XED-K78AS, 코어i7, 16GB, WIN11 Home #product10_detail.html 1149000\n",
      "노트북 레노버 아이디어패드 슬림 1 15AMN7 15.6, 256GB, Free DOS, 82VG002EKR, 라이젠3, Cloud Grey (82VG), 8GB #product3_detail.html 529000\n",
      "노트북 레노버 V15 G4 AMN 15.6, Arctic Grey, 라이젠3, 256GB, 8GB, WIN11 Home, 82YU0009KR #product4_detail.html 624000\n",
      "노트북 베이직스 베이직북 14 3세대, BB1422SS, 256GB, White, WIN11 Pro, 셀러론, 8GB #product6_detail.html 398000\n",
      "데스크탑 HP VICTUS 게이밍 데스크탑 TG02-1000KL (i5-13400F FreeDos RAM 16GB NVMe 512GB RTX3060 Ti), 기본형 #product13_detail.html 1199000\n",
      "데스크탑 델 인스피론 3020 S 슬림 데스크탑 포그 블루 DN3020S-WH02KR (i5-13400 WIN11 Home NVMe 512GB DDR4 8GB), 기본형 #product14_detail.html 719000\n",
      "데스크탑 삼성전자 사무용 게임용 리퍼 중고컴퓨터 i3 i5 i7 GTX1060 무상A/S 1년 새상품SSD, 7번) i5-7세대-미들[게임용 조립] #product16_detail.html 436000\n",
      "데스크탑 삼성전자 삼성 DM500SFZ-AD5A 최신 13세대 CPU-i5 데스크탑 슬림형 PC본체 사무용 컴퓨터 인터넷강의 재택근무 업무용, 블랙 #product17_detail.html 889000\n",
      "데스크탑 HP S01-PF3000KL-WIN11 13세대\n",
      "i5-13400_(NVMe512GB_16GB)HP컴퓨터/슬림PC/사무용PC/HH #product18_detail.html 799000\n",
      "데스크탑 삼성 컴퓨터 본체 조립PC 모니터포함 풀세트 사무용 게이밍 데스크탑 윈도우10, 본체만, 10. 라이젠5600/32G/500/4060 #product19_detail.html 1099000\n",
      "휴대폰 삼성전자 갤럭시 A34 자급제, 어썸 그라파이트, 128GB #product21_detail.html 408400\n",
      "노트북 삼성전자 노트북 플러스2 15.6, 퓨어 화이트, NT550XDA-K24AT, 펜티엄, 256GB, 8GB, WIN11 Pro #product2_detail.html 549000\n",
      "노트북 레노버 V15 G4 AMN 15.6, Arctic Grey, 라이젠3, 256GB, 8GB, WIN11 Home, 82YU0009KR #product4_detail.html 624000\n",
      "노트북 베이직스 베이직북 14 3세대, BB1422SS, 256GB, White, WIN11 Pro, 셀러론, 8GB #product6_detail.html 398000\n",
      "노트북 레노버 아이디어패드 슬림 5i 14IRL 14, Cloud Grey, 코어i5, 512GB, 16GB, Free DOS, 82XD002XKR #product7_detail.html 899000\n",
      "데스크탑 한성컴퓨터 데스크탑 화이트 TFG MX4A500 (라이젠5-5600G WIN미포함 RAM 16GB NVMe 500GB), 기본형 #product11_detail.html 499000\n",
      "데스크탑 컴집 게이밍 조립식 컴퓨터 본체 배틀그라운드 디아블로4 롤 오버워치2 전문가용 건축설계 오토캐드 조립 PC, 게임용1번 #product12_detail.html 699000\n",
      "데스크탑 HP VICTUS 게이밍 데스크탑 TG02-1000KL (i5-13400F FreeDos RAM 16GB NVMe 512GB RTX3060 Ti), 기본형 #product13_detail.html 1199000\n",
      "데스크탑 델 인스피론 3020 S 슬림 데스크탑 포그 블루 DN3020S-WH02KR (i5-13400 WIN11 Home NVMe 512GB DDR4 8GB), 기본형 #product14_detail.html 719000\n",
      "데스크탑 HP S01-PF3000KL-WIN11 13세대\n",
      "i5-13400_(NVMe512GB_16GB)HP컴퓨터/슬림PC/사무용PC/HH #product18_detail.html 799000\n",
      "데스크탑 삼성 컴퓨터 본체 조립PC 모니터포함 풀세트 사무용 게이밍 데스크탑 윈도우10, 본체만, 10. 라이젠5600/32G/500/4060 #product19_detail.html 1099000\n"
     ]
    }
   ],
   "source": [
    "import requests\n",
    "from bs4 import BeautifulSoup\n",
    "import pandas as pd \n",
    "\n",
    "data = []\n",
    "\n",
    "for i in range(1, 5) :\n",
    "\n",
    "    response = requests.get(f\"https://startcoding.pythonanywhere.com/basic?keyword={i}\")\n",
    "    html = response.text\n",
    "    soup = BeautifulSoup(html, 'html.parser')\n",
    "    items = soup.select('.product')\n",
    "    for item in items :\n",
    "        category = item.select_one('.product-category').text\n",
    "        name = item.select_one('.product-name').text\n",
    "        link = item.select_one('.product-name > a').attrs['href']\n",
    "        price = item.select_one('.product-price').text.split('원')[0].replace(',' , '')\n",
    "        print(category, name, link, price)\n",
    "        data.append([category, name, link, price])\n",
    "\n"
   ]
  },
  {
   "cell_type": "code",
   "execution_count": null,
   "metadata": {},
   "outputs": [],
   "source": [
    "#데이터 프레임 만들기\n",
    "df = pd.DataFrame(data, columns=['카테고리', '상품명' , '상세페이지링크' , '가격'])\n",
    "\n",
    "df\n"
   ]
  },
  {
   "cell_type": "code",
   "execution_count": 23,
   "metadata": {},
   "outputs": [],
   "source": [
    "# 엑셀 저장\n",
    "df.to_excel('result.xlsx', index=False)"
   ]
  },
  {
   "cell_type": "code",
   "execution_count": null,
   "metadata": {},
   "outputs": [],
   "source": [
    "# 4단계. 크롤링한 데이터 엑셀에 저장하는 법\n",
    "# pandas, openpyxl 설치\n",
    "# 비어있는 리스트를 만들고 data=[] \n",
    "# 데이터를 한행씩 추가해야함 \n",
    "# 데이터 프레임을 만들고 엑셀로 젖아하면 끝!"
   ]
  }
 ],
 "metadata": {
  "kernelspec": {
   "display_name": "Python 3",
   "language": "python",
   "name": "python3"
  },
  "language_info": {
   "codemirror_mode": {
    "name": "ipython",
    "version": 3
   },
   "file_extension": ".py",
   "mimetype": "text/x-python",
   "name": "python",
   "nbconvert_exporter": "python",
   "pygments_lexer": "ipython3",
   "version": "3.13.0"
  }
 },
 "nbformat": 4,
 "nbformat_minor": 2
}
