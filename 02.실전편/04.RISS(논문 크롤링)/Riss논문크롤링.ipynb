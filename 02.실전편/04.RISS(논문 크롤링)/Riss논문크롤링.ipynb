{
 "cells": [
  {
   "cell_type": "code",
   "execution_count": null,
   "metadata": {},
   "outputs": [
    {
     "ename": "SyntaxError",
     "evalue": "invalid syntax (2968537017.py, line 9)",
     "output_type": "error",
     "traceback": [
      "\u001b[1;36m  Cell \u001b[1;32mIn[4], line 9\u001b[1;36m\u001b[0m\n\u001b[1;33m    \"searchGubun\": \"true\"\u001b[0m\n\u001b[1;37m                 ^\u001b[0m\n\u001b[1;31mSyntaxError\u001b[0m\u001b[1;31m:\u001b[0m invalid syntax\n"
     ]
    }
   ],
   "source": [
    "import requests\n",
    "from bs4 import BeautifulSoup\n",
    "import pandas as pd \n",
    "\n",
    "# url너무 길어서 변수로 빼봤다.\n",
    "url = \"https://www.riss.kr/search/Search.do\"\n",
    "param = {\n",
    "    \"isDetailSearch\": \"N\",\n",
    "    \"searchGubun\": \"true\",\n",
    "    \"viewYn\": \"OP\",\n",
    "    \"strQuery\": \"패션 인공지능\",\n",
    "    \"order\": \"/DESC\",\n",
    "    \"onHanja\": \"false\",\n",
    "    \"strSort\": \"RANK\",\n",
    "    \"iStartCount\": 0,\n",
    "    \"sflag\": 1,\n",
    "    \"isFDetailSearch\": \"N\",\n",
    "    \"pageNumber\": 1,\n",
    "    \"resultKeyword\": \"패션 인공지능\",\n",
    "    \"icate\": \"re_a_kor\",\n",
    "    \"colName\": \"re_a_kor\",\n",
    "    \"pageScale\": 10,\n",
    "    \"isTab\": \"Y\",\n",
    "    \"query\": \"패션 인공지능\"\n",
    "}\n",
    "response = requests.get(url, params=param)\n",
    "html = response.text\n",
    "soup = BeautifulSoup(html , 'html.parser')\n",
    "soup"
   ]
  },
  {
   "cell_type": "code",
   "execution_count": null,
   "metadata": {},
   "outputs": [],
   "source": []
  }
 ],
 "metadata": {
  "kernelspec": {
   "display_name": "Python 3",
   "language": "python",
   "name": "python3"
  },
  "language_info": {
   "codemirror_mode": {
    "name": "ipython",
    "version": 3
   },
   "file_extension": ".py",
   "mimetype": "text/x-python",
   "name": "python",
   "nbconvert_exporter": "python",
   "pygments_lexer": "ipython3",
   "version": "3.13.0"
  }
 },
 "nbformat": 4,
 "nbformat_minor": 2
}
