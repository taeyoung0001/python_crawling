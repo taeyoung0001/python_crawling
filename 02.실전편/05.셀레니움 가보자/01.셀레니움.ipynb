{
 "cells": [
  {
   "cell_type": "code",
   "execution_count": 3,
   "metadata": {},
   "outputs": [
    {
     "name": "stdout",
     "output_type": "stream",
     "text": [
      "Requirement already satisfied: selenium==4.17.2 in c:\\users\\uk\\appdata\\local\\programs\\python\\python313\\lib\\site-packages (4.17.2)\n",
      "Requirement already satisfied: urllib3<3,>=1.26 in c:\\users\\uk\\appdata\\local\\programs\\python\\python313\\lib\\site-packages (from urllib3[socks]<3,>=1.26->selenium==4.17.2) (2.2.3)\n",
      "Requirement already satisfied: trio~=0.17 in c:\\users\\uk\\appdata\\local\\programs\\python\\python313\\lib\\site-packages (from selenium==4.17.2) (0.27.0)\n",
      "Requirement already satisfied: trio-websocket~=0.9 in c:\\users\\uk\\appdata\\local\\programs\\python\\python313\\lib\\site-packages (from selenium==4.17.2) (0.11.1)\n",
      "Requirement already satisfied: certifi>=2021.10.8 in c:\\users\\uk\\appdata\\local\\programs\\python\\python313\\lib\\site-packages (from selenium==4.17.2) (2024.8.30)\n",
      "Requirement already satisfied: typing_extensions>=4.9.0 in c:\\users\\uk\\appdata\\local\\programs\\python\\python313\\lib\\site-packages (from selenium==4.17.2) (4.12.2)\n",
      "Requirement already satisfied: attrs>=23.2.0 in c:\\users\\uk\\appdata\\local\\programs\\python\\python313\\lib\\site-packages (from trio~=0.17->selenium==4.17.2) (24.2.0)\n",
      "Requirement already satisfied: sortedcontainers in c:\\users\\uk\\appdata\\local\\programs\\python\\python313\\lib\\site-packages (from trio~=0.17->selenium==4.17.2) (2.4.0)\n",
      "Requirement already satisfied: idna in c:\\users\\uk\\appdata\\local\\programs\\python\\python313\\lib\\site-packages (from trio~=0.17->selenium==4.17.2) (3.10)\n",
      "Requirement already satisfied: outcome in c:\\users\\uk\\appdata\\local\\programs\\python\\python313\\lib\\site-packages (from trio~=0.17->selenium==4.17.2) (1.3.0.post0)\n",
      "Requirement already satisfied: sniffio>=1.3.0 in c:\\users\\uk\\appdata\\local\\programs\\python\\python313\\lib\\site-packages (from trio~=0.17->selenium==4.17.2) (1.3.1)\n",
      "Requirement already satisfied: cffi>=1.14 in c:\\users\\uk\\appdata\\local\\programs\\python\\python313\\lib\\site-packages (from trio~=0.17->selenium==4.17.2) (1.17.1)\n",
      "Requirement already satisfied: wsproto>=0.14 in c:\\users\\uk\\appdata\\local\\programs\\python\\python313\\lib\\site-packages (from trio-websocket~=0.9->selenium==4.17.2) (1.2.0)\n",
      "Requirement already satisfied: pysocks!=1.5.7,<2.0,>=1.5.6 in c:\\users\\uk\\appdata\\local\\programs\\python\\python313\\lib\\site-packages (from urllib3[socks]<3,>=1.26->selenium==4.17.2) (1.7.1)\n",
      "Requirement already satisfied: pycparser in c:\\users\\uk\\appdata\\local\\programs\\python\\python313\\lib\\site-packages (from cffi>=1.14->trio~=0.17->selenium==4.17.2) (2.22)\n",
      "Requirement already satisfied: h11<1,>=0.9.0 in c:\\users\\uk\\appdata\\local\\programs\\python\\python313\\lib\\site-packages (from wsproto>=0.14->trio-websocket~=0.9->selenium==4.17.2) (0.14.0)\n",
      "Note: you may need to restart the kernel to use updated packages.\n"
     ]
    },
    {
     "name": "stderr",
     "output_type": "stream",
     "text": [
      "\n",
      "[notice] A new release of pip is available: 24.2 -> 24.3.1\n",
      "[notice] To update, run: python.exe -m pip install --upgrade pip\n"
     ]
    }
   ],
   "source": [
    "pip install selenium==4.17.2"
   ]
  },
  {
   "cell_type": "code",
   "execution_count": 4,
   "metadata": {},
   "outputs": [],
   "source": [
    "from selenium import webdriver\n",
    "\n",
    "#크롬 드라이버 생성\n",
    "driver = webdriver.Chrome()"
   ]
  },
  {
   "cell_type": "code",
   "execution_count": null,
   "metadata": {},
   "outputs": [],
   "source": [
    "# 원하는 페이지로 이동\n",
    "driver.get(\"https://www.naver.com\")"
   ]
  },
  {
   "cell_type": "code",
   "execution_count": null,
   "metadata": {},
   "outputs": [],
   "source": [
    "# 태그 "
   ]
  }
 ],
 "metadata": {
  "kernelspec": {
   "display_name": "Python 3",
   "language": "python",
   "name": "python3"
  },
  "language_info": {
   "codemirror_mode": {
    "name": "ipython",
    "version": 3
   },
   "file_extension": ".py",
   "mimetype": "text/x-python",
   "name": "python",
   "nbconvert_exporter": "python",
   "pygments_lexer": "ipython3",
   "version": "3.13.0"
  }
 },
 "nbformat": 4,
 "nbformat_minor": 2
}
