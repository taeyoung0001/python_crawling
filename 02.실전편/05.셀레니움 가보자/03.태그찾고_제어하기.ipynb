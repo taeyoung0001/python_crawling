{
 "cells": [
  {
   "cell_type": "code",
   "execution_count": 27,
   "metadata": {},
   "outputs": [],
   "source": [
    "from selenium import webdriver\n",
    "from selenium.webdriver.common.by import By\n",
    "from selenium.webdriver.common.keys import Keys\n",
    "\n",
    "#크롬 드라이버 생성\n",
    "driver = webdriver.Chrome()\n",
    "#페이지 이동\n",
    "\n",
    "driver.get(\"https://www.naver.com\")\n",
    "\n",
    "\n",
    "#태그 찾기\n",
    "\n",
    "search = driver.find_element(By.CSS_SELECTOR, '#query')\n",
    "# 클릭\n",
    "search.click()\n",
    "# 문자 입력하는 방법\n",
    "search.send_keys('거금돈')\n",
    "from selenium.webdriver.common.keys import Keys\n",
    "\n",
    "# 키 입력\n",
    "search.send_keys(Keys.ENTER)"
   ]
  }
 ],
 "metadata": {
  "kernelspec": {
   "display_name": "Python 3",
   "language": "python",
   "name": "python3"
  },
  "language_info": {
   "codemirror_mode": {
    "name": "ipython",
    "version": 3
   },
   "file_extension": ".py",
   "mimetype": "text/x-python",
   "name": "python",
   "nbconvert_exporter": "python",
   "pygments_lexer": "ipython3",
   "version": "3.13.0"
  }
 },
 "nbformat": 4,
 "nbformat_minor": 2
}
