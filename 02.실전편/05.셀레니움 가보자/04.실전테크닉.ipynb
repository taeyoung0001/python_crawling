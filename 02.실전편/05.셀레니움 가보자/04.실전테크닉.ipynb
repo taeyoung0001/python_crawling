{
 "cells": [
  {
   "cell_type": "code",
   "execution_count": null,
   "metadata": {},
   "outputs": [],
   "source": [
    "from selenium import webdriver\n",
    "from selenium.webdriver.common.by import By\n",
    "from selenium.webdriver.common.keys import Keys\n",
    "import time\n",
    "\n",
    "#여러 태그 동시 제어 방법\n",
    "driver = webdriver.Chrome()\n",
    "driver.get(\"https://startcoding.pythonanywhere.com/basic\")\n",
    "\n",
    "#태그 찾기\n",
    "labels = driver.find_elements(By.CSS_SELECTOR, \"label[for]\")\n",
    "\n",
    "for label in labels:\n",
    "    label.click()\n",
    "    time.sleep(1)\n",
    "    print(label.text, label.get_attribute('for'))"
   ]
  }
 ],
 "metadata": {
  "kernelspec": {
   "display_name": "Python 3",
   "language": "python",
   "name": "python3"
  },
  "language_info": {
   "codemirror_mode": {
    "name": "ipython",
    "version": 3
   },
   "file_extension": ".py",
   "mimetype": "text/x-python",
   "name": "python",
   "nbconvert_exporter": "python",
   "pygments_lexer": "ipython3",
   "version": "3.13.0"
  }
 },
 "nbformat": 4,
 "nbformat_minor": 2
}
