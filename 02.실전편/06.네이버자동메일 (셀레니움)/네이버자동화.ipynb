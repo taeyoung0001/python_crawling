{
 "cells": [
  {
   "cell_type": "code",
   "execution_count": null,
   "metadata": {},
   "outputs": [],
   "source": [
    "user_id = '###'\n",
    "user_pw = '###'"
   ]
  },
  {
   "cell_type": "code",
   "execution_count": 98,
   "metadata": {},
   "outputs": [],
   "source": [
    "# 자동입력 방지 문자가 뜸, 그래서 우회가 필요함\n",
    "# 아이디랑, 비밀번호를 send_keys로 입력해서 자동방지 뜸 \n",
    "# 그래서 클립보드에 복붙하면 우회 가능\n",
    "# 클립보드라는 라이브러리 설치가 필요함"
   ]
  },
  {
   "cell_type": "code",
   "execution_count": 99,
   "metadata": {},
   "outputs": [],
   "source": [
    "# pip install pyperclip"
   ]
  },
  {
   "cell_type": "code",
   "execution_count": 130,
   "metadata": {},
   "outputs": [],
   "source": [
    "from selenium import webdriver\n",
    "from selenium.webdriver.common.by import By\n",
    "from selenium.webdriver.common.keys import Keys\n",
    "import time\n",
    "import pyperclip\n",
    "\n",
    "#크롬으로 설정~\n",
    "driver = webdriver.Chrome()\n",
    "\n",
    "#네이버로 들어가서 로그인 페이지 들어가기\n",
    "driver.get(\"https://www.naver.com\")\n",
    "loginPage = driver.find_element(By.CSS_SELECTOR, \"#account > div > a\")\n",
    "loginPage.click()\n",
    "\n",
    "#아이디 입력\n",
    "id = driver.find_element(By.CSS_SELECTOR, \"#id\")\n",
    "pyperclip.copy(user_id)\n",
    "id.send_keys(Keys.CONTROL, \"v\")   \n",
    "time.sleep(2)\n",
    "\n",
    "#비밀번호 입력\n",
    "pw = driver.find_element(By.CSS_SELECTOR, \"#pw\")\n",
    "pyperclip.copy(user_pw)\n",
    "pw.send_keys(Keys.CONTROL, \"v\")   \n",
    "time.sleep(1)\n",
    "\n",
    "#로그인 버튼 클릭\n",
    "login = driver.find_element(By.CSS_SELECTOR, \"#log\\\\.login\")\n",
    "login.click()\n",
    "\n",
    "# 강의 내용에는 없지만 계정 등록, 등록안함 버튼이 있음\n",
    "# 난 등록하지 않을거임\n",
    "notRegistration = driver.find_element(By.CSS_SELECTOR, \"#new\\\\.dontsave\")\n",
    "notRegistration.click()\n",
    "\n",
    "# 메일창으로 들어가기 \n",
    "# 구조상 메일을 클릭하고 아래 메일을 눌러야함\n",
    "# 다른 카테고리의 아래를 클릭하면 메일로 들어가지지 않음\n",
    "# 근데 이런 클릭없이 그냥 바로 도메인으로 들어가면 안되는건가..?\n",
    "# 혼자한번 연습해봐야겠다.\n",
    "mail = driver.find_element(By.CSS_SELECTOR, \"#account > div.MyView-module__my_menu___eF24q > div > div > ul > li:nth-child(1) > a > span.MyView-module__item_text___VTQQM\")\n",
    "mail.click()\n",
    "time.sleep(1)\n",
    "\n",
    "connectionMail = driver.find_element(By.CSS_SELECTOR, \"#account > div.MyView-module__layer_menu_service___NqMyX > div.MyView-module__service_sub___wix9p > div.MyView-module__sub_left___AIWHR > a\")\n",
    "connectionMail.click()\n",
    "\n",
    "# 메일 쓰기 버튼으로 접속 필요\n",
    "# 새로운창으로 들어가야해서 nosuch에러가 발생\n",
    "# 그래서 새창으로 전환하기가 필요\n",
    "# 현재 열려있는 창을 확인해 보면 2개가 나타남\n",
    "# but 웹 드라이버는 한순간에 하나의 페이지만 제어할 수 있음\n",
    "# 새창으로 전환\n",
    "driver.switch_to.window(driver.window_handles[1])\n",
    "\n",
    "# 메일 쓰기 버튼\n",
    "driver.find_element(By.CSS_SELECTOR, \"#root > div > nav > div > div.lnb_header > div.lnb_task > a.item.button_write\").click()\n",
    "time.sleep(1)\n",
    "\n",
    "# 내게 쓰기 버튼 클릭\n",
    "driver.find_element(By.CSS_SELECTOR, \"#content > div.mail_toolbar.type_write > div:nth-child(1) > div > button.button_write_change\").click()\n",
    "time.sleep(1)\n",
    "\n",
    "# 제목 입력\n",
    "title = driver.find_element(By.CSS_SELECTOR, \"#subject_title\").send_keys(\"안녕하세요 연습입니다.\")\n",
    "time.sleep(1)\n",
    "\n",
    "# !!!!!!!!!!!!!!!!!!!!!아이프레임 문제 # 본문입력 부분\n",
    "# 아이프레임태그를 잡는다\n",
    "# 아이프레임으로 스위치를 해준다\n",
    "# 스위칭을 해주고 그 선택자에 원하는 걸 입력한다.\n",
    "# 다시 원래 콘텐츠로 돌아온다.\n",
    "iframe = driver.find_element(By.CSS_SELECTOR, \"#content > div.contents_area > div > div.editor_area > div > div.editor_body > iframe\") \n",
    "driver.switch_to.frame(iframe)\n",
    "\n",
    "contentCSS = \"body > div > div.workseditor-content\"\n",
    "driver.find_element(By.CSS_SELECTOR, contentCSS).send_keys(\"안녕하세요 본문입니다.\")\n",
    "\n",
    "driver.switch_to.default_content()\n",
    "\n",
    "# 저장(보내기)\n",
    "sendMailCSS = \"#content > div.mail_toolbar.type_write > div:nth-child(1) > div > button.button_write_task\"\n",
    "driver.find_element(By.CSS_SELECTOR, sendMailCSS).click()"
   ]
  }
 ],
 "metadata": {
  "kernelspec": {
   "display_name": "Python 3",
   "language": "python",
   "name": "python3"
  },
  "language_info": {
   "codemirror_mode": {
    "name": "ipython",
    "version": 3
   },
   "file_extension": ".py",
   "mimetype": "text/x-python",
   "name": "python",
   "nbconvert_exporter": "python",
   "pygments_lexer": "ipython3",
   "version": "3.13.0"
  }
 },
 "nbformat": 4,
 "nbformat_minor": 2
}
