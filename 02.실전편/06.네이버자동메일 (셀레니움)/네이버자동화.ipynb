{
 "cells": [
  {
   "cell_type": "code",
   "execution_count": null,
   "metadata": {},
   "outputs": [],
   "source": [
    "user_id = '##'\n",
    "user_pw = '##'"
   ]
  },
  {
   "cell_type": "code",
   "execution_count": null,
   "metadata": {},
   "outputs": [],
   "source": [
    "# 자동입력 방지 문자가 뜸, 그래서 우회가 필요함\n",
    "# 아이디랑, 비밀번호를 send_keys로 입력해서 자동방지 뜸 \n",
    "# 그래서 클립보드에 복붙하면 우회 가능\n",
    "# 클립보드라는 라이브러리 설치가 필요함"
   ]
  },
  {
   "cell_type": "code",
   "execution_count": null,
   "metadata": {},
   "outputs": [],
   "source": [
    "pip install pyperclip"
   ]
  },
  {
   "cell_type": "code",
   "execution_count": 48,
   "metadata": {},
   "outputs": [],
   "source": [
    "from selenium import webdriver\n",
    "from selenium.webdriver.common.by import By\n",
    "from selenium.webdriver.common.keys import Keys\n",
    "import time\n",
    "import pyperclip\n",
    "\n",
    "#크롬으로 설정~\n",
    "driver = webdriver.Chrome()\n",
    "\n",
    "#네이버로 들어가서 로그인 페이지 들어가기\n",
    "driver.get(\"https://www.naver.com\")\n",
    "loginPage = driver.find_element(By.CSS_SELECTOR, \"#account > div > a\")\n",
    "loginPage.click()\n",
    "\n",
    "#아이디 입력\n",
    "id = driver.find_element(By.CSS_SELECTOR, \"#id\")\n",
    "pyperclip.copy(user_id)\n",
    "id.send_keys(Keys.CONTROL, \"v\")   \n",
    "time.sleep(2)\n",
    "\n",
    "#비밀번호 입력\n",
    "pw = driver.find_element(By.CSS_SELECTOR, \"#pw\")\n",
    "pyperclip.copy(user_pw)\n",
    "pw.send_keys(Keys.CONTROL, \"v\")   \n",
    "time.sleep(1)\n",
    "\n",
    "#로그인 버튼 클릭\n",
    "login = driver.find_element(By.CSS_SELECTOR, \"#log\\\\.login\")\n",
    "login.click()\n",
    "\n",
    "# 강의 내용에는 없지만 계정 등록, 등록안함 버튼이 있음\n",
    "# 난 등록하지 않을거임\n",
    "notRegistration = driver.find_element(By.CSS_SELECTOR, \"#new\\\\.dontsave\")\n",
    "notRegistration.click()\n",
    "\n"
   ]
  }
 ],
 "metadata": {
  "kernelspec": {
   "display_name": "Python 3",
   "language": "python",
   "name": "python3"
  },
  "language_info": {
   "codemirror_mode": {
    "name": "ipython",
    "version": 3
   },
   "file_extension": ".py",
   "mimetype": "text/x-python",
   "name": "python",
   "nbconvert_exporter": "python",
   "pygments_lexer": "ipython3",
   "version": "3.13.0"
  }
 },
 "nbformat": 4,
 "nbformat_minor": 2
}
