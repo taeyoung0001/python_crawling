{
 "cells": [
  {
   "cell_type": "code",
   "execution_count": 2,
   "metadata": {},
   "outputs": [],
   "source": [
    "# 동적 페이지 추출하기\n",
    "from selenium import webdriver\n",
    "from selenium.webdriver.common.by import By\n",
    "from selenium.webdriver.common.keys import Keys\n",
    "\n",
    "URL = \"https://startcoding.pythonanywhere.com/dynamic\"\n",
    "\n",
    "# 크롬 드라이버 생성\n",
    "driver = webdriver.Chrome()\n",
    "\n",
    "# 페이지 이동\n",
    "driver.get(URL)"
   ]
  },
  {
   "cell_type": "code",
   "execution_count": 11,
   "metadata": {},
   "outputs": [],
   "source": [
    "# 절대 위치로 스크롤\n",
    "# 숫자는 저거 픽셀인가?\n",
    "driver.execute_script(\"window.scrollTo(0,2770)\")"
   ]
  },
  {
   "cell_type": "code",
   "execution_count": null,
   "metadata": {},
   "outputs": [],
   "source": [
    "# 상대 위치로 스크롤\n",
    "# 즉 현재에서 이동하게 된다(0,1000)에서 (1000,2000)으로 간다.\n",
    "\n",
    "driver.execute_script(\"window.scrollBy(0,1000)\")"
   ]
  },
  {
   "cell_type": "code",
   "execution_count": 23,
   "metadata": {},
   "outputs": [
    {
     "data": {
      "text/plain": [
       "7090"
      ]
     },
     "execution_count": 23,
     "metadata": {},
     "output_type": "execute_result"
    }
   ],
   "source": [
    "#현재 보고있는 전체 스크롤 높이\n",
    "driver.execute_script(\"return document.body.scrollHeight\")"
   ]
  },
  {
   "cell_type": "code",
   "execution_count": null,
   "metadata": {},
   "outputs": [],
   "source": [
    "# 페이지 끝까지 스크롤하기 \n",
    "# 이건 내가 스스로 생각해본거\n",
    "# height = driver.execute_script(\"return document.body.scrollHeight\")\n",
    "# driver.execute_script(f\"window.scrollTo(0,{height})\")\n",
    "\n",
    "# 강사님 코드\n",
    "driver.execute_script(\"window.scrollTo(0, document.body.scrollHeight)\")"
   ]
  },
  {
   "cell_type": "code",
   "execution_count": null,
   "metadata": {},
   "outputs": [],
   "source": [
    "# (심화) 특정 요소로 스크롤 하는 방법\n",
    "labelSelector = \"#aside > div:nth-child(3) > div > div:nth-child(6) > label\"\n",
    "tag = driver.find_element(By.CSS_SELECTOR, labelSelector)\n",
    "#tag를 arguments의 0번째로 가져와라\n",
    "#tag뒤에 ,tag1 을 넣으면 arguments의 1번째로 가져와라 라는 뜻\n",
    "# 이러면 tag쪽으로 딱 맞춰서 스크롤이 된다\n",
    "\n",
    "driver.execute_script(\"arguments[0].scrollIntoView(true)\" , tag)"
   ]
  },
  {
   "cell_type": "code",
   "execution_count": 8,
   "metadata": {},
   "outputs": [],
   "source": [
    "# (심화) 특정 요소가 나타날 때까지 스크롤\n",
    "import time\n",
    "goalSelector = \"#product-container > div:nth-child(21)\"\n",
    "\n",
    "while True:\n",
    "    try:\n",
    "        element = driver.find_element(By.CSS_SELECTOR, goalSelector)\n",
    "        break\n",
    "    except:\n",
    "        driver.execute_script(\"window.scrollTo(0, document.body.scrollHeight)\")\n",
    "        time.sleep(1)"
   ]
  },
  {
   "cell_type": "code",
   "execution_count": 10,
   "metadata": {},
   "outputs": [
    {
     "data": {
      "text/plain": [
       "'-18%HOT\\n휴대폰\\n삼성전자 갤럭시 A34 자급제, 어썸 그라파이트, 128GB\\n408,400원499,400\\n(4561)\\nADD TO CART'"
      ]
     },
     "execution_count": 10,
     "metadata": {},
     "output_type": "execute_result"
    }
   ],
   "source": [
    "element.text"
   ]
  }
 ],
 "metadata": {
  "kernelspec": {
   "display_name": "Python 3",
   "language": "python",
   "name": "python3"
  },
  "language_info": {
   "codemirror_mode": {
    "name": "ipython",
    "version": 3
   },
   "file_extension": ".py",
   "mimetype": "text/x-python",
   "name": "python",
   "nbconvert_exporter": "python",
   "pygments_lexer": "ipython3",
   "version": "3.13.0"
  }
 },
 "nbformat": 4,
 "nbformat_minor": 2
}
