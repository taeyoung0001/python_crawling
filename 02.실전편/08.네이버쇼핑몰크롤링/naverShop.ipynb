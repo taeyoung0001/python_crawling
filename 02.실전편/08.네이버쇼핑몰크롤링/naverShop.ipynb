{
 "cells": [
  {
   "cell_type": "code",
   "execution_count": null,
   "metadata": {},
   "outputs": [],
   "source": [
    "\n",
    "from bs4 import BeautifulSoup\n",
    "from selenium import webdriver\n",
    "from selenium.webdriver.common.by import By\n",
    "from selenium.webdriver.common.keys import Keys\n",
    "import time\n",
    "\n",
    "URL = \"https://search.shopping.naver.com/search/all?query=%EB%8B%AD%EA%B0%80%EC%8A%B4%EC%82%B4\"\n",
    "\n",
    "\n",
    "# 크롬 드라이버 생성\n",
    "driver = webdriver.Chrome()\n",
    "\n",
    "# 페이지 이동\n",
    "driver.get(URL)"
   ]
  },
  {
   "cell_type": "code",
   "execution_count": 5,
   "metadata": {},
   "outputs": [],
   "source": [
    "#무한스크롤\n",
    "\n",
    "last_height = driver.execute_script(\"return document.body.scrollHeight\")\n",
    "\n",
    "while True:\n",
    "    # 스크롤 끝까지 내리기\n",
    "    driver.execute_script(\"window.scrollTo(0, document.body.scrollHeight)\")\n",
    "\n",
    "    #잠시 대기(컴퓨터에게 로딩시간을 줘야함)\n",
    "    time.sleep(2)\n",
    "\n",
    "    # 스크롤 후 높이\n",
    "    new_height = driver.execute_script(\"return document.body.scrollHeight\")\n",
    "\n",
    "    # 비교(if, breack)\n",
    "    if new_height == last_height:\n",
    "        break\n",
    "\n",
    "    # 스크롤 전 높이 업데이트\n",
    "    last_height = new_height"
   ]
  },
  {
   "cell_type": "code",
   "execution_count": null,
   "metadata": {},
   "outputs": [],
   "source": [
    "import pandas as pd \n",
    "\n",
    "html = driver.page_source\n",
    "soup = BeautifulSoup(html, 'html.parser')\n",
    "\n",
    "#나무 선택자 찾기\n",
    "\n",
    "data = []\n",
    "items = soup.select(\".product_item__MDtDF\")\n",
    "for item in items:\n",
    "    name  = item.select_one(\".product_title__Mmw2K > a\").text\n",
    "    link = item.select_one(\".product_title__Mmw2K > a\").attrs['href']\n",
    "    price = item.select_one(\".price_num__S2p_v\").text.replace(\"원\" , \"\").replace(\",\" , \"\")\n",
    "    \n",
    "    # 속성선택자\n",
    "    if item.select_one(\"[data-shp-area*=purchase] em\"):\n",
    "        purchase = item.select_one(\"[data-shp-area*=purchase] em\").text\n",
    "        \n",
    "        # 엑셀에 뿌리니깐 숫자가 뒤죽박죽이여서 스스로 한번 조건을 달고 정리해봄\n",
    "        # 결과는 대성공~\n",
    "        if '만' in purchase:\n",
    "        \n",
    "            purchase = int(float(purchase.split('만')[0]) * 10000)\n",
    "\n",
    "        elif len(purchase) <= 3:\n",
    "            purchase = int(purchase)\n",
    "\n",
    "        elif ',' in purchase:\n",
    "            purchase = int(purchase.replace(\",\" , \"\"))\n",
    "       \n",
    "    else:\n",
    "        purchase = \"\"\n",
    "\n",
    "\n",
    "    data.append([name, link, price, purchase])\n",
    "\n",
    "df = pd.DataFrame(data, columns= [\"상품명\" ,\"링크\", \"가격\", \"구매건수\"])  \n",
    "\n",
    "df.to_excel(\"naverShop.xlsx\") "
   ]
  }
 ],
 "metadata": {
  "kernelspec": {
   "display_name": "Python 3",
   "language": "python",
   "name": "python3"
  },
  "language_info": {
   "codemirror_mode": {
    "name": "ipython",
    "version": 3
   },
   "file_extension": ".py",
   "mimetype": "text/x-python",
   "name": "python",
   "nbconvert_exporter": "python",
   "pygments_lexer": "ipython3",
   "version": "3.13.0"
  }
 },
 "nbformat": 4,
 "nbformat_minor": 2
}
