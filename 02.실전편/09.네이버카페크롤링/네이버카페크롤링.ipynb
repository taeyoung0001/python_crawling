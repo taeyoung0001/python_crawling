{
 "cells": [
  {
   "cell_type": "code",
   "execution_count": 104,
   "metadata": {},
   "outputs": [],
   "source": [
    "from selenium import webdriver\n",
    "from selenium.webdriver.common.by import By\n",
    "from selenium.webdriver.common.keys import Keys\n",
    "from bs4 import BeautifulSoup\n",
    "import time\n",
    "\n",
    "driver = webdriver.Chrome()\n",
    "\n",
    "URL = \"https://cafe.naver.com/startcodingofficial\"\n",
    "driver.get(URL)\t\t"
   ]
  },
  {
   "cell_type": "code",
   "execution_count": 105,
   "metadata": {},
   "outputs": [],
   "source": [
    "category = driver.find_element(By.CSS_SELECTOR, \"#menuLink15\")\n",
    "category.click()"
   ]
  },
  {
   "cell_type": "code",
   "execution_count": 106,
   "metadata": {},
   "outputs": [],
   "source": [
    "# 아이프레임 접속\n",
    "iframe = driver.find_element(By.CSS_SELECTOR, \"#cafe_main\") \n",
    "driver.switch_to.frame(iframe)"
   ]
  },
  {
   "cell_type": "code",
   "execution_count": 107,
   "metadata": {},
   "outputs": [],
   "source": [
    "# 50개 씩 표시하기\n",
    "tabBar = \"#listSizeSelectDiv > a\"\n",
    "element = driver.find_element(By.CSS_SELECTOR, tabBar)"
   ]
  },
  {
   "cell_type": "code",
   "execution_count": null,
   "metadata": {},
   "outputs": [],
   "source": [
    "# 1. 태그를 보이게 만들고 클릭 실행\n",
    "element.click()\n",
    "type50 = driver.find_element(By.CSS_SELECTOR, \"#listSizeSelectDiv > ul > li:nth-child(7) > a\")\n",
    "type50.click()"
   ]
  },
  {
   "cell_type": "code",
   "execution_count": null,
   "metadata": {},
   "outputs": [],
   "source": [
    "# 2. 자바스크립트를 이용하여 태그 클릭 실행\n",
    "# driver.execute_script(\"arguments[0].click()\" , type50)\n"
   ]
  },
  {
   "cell_type": "code",
   "execution_count": 128,
   "metadata": {},
   "outputs": [
    {
     "name": "stdout",
     "output_type": "stream",
     "text": [
      "유튜브 웹크롤링 강의 후기 https://cafe.naver.com/ArticleRead.nhn?clubid=31023030&page=1&userDisplay=50&menuid=15&boardtype=L&articleid=1436&referrerAllArticles=false\n",
      "반갑습니다. 크롤링 찾아보다가 카페까지 왔습니다. https://cafe.naver.com/ArticleRead.nhn?clubid=31023030&page=1&userDisplay=50&menuid=15&boardtype=L&articleid=1434&referrerAllArticles=false\n",
      "유튜브 강의 후기 https://cafe.naver.com/ArticleRead.nhn?clubid=31023030&page=1&userDisplay=50&menuid=15&boardtype=L&articleid=1426&referrerAllArticles=false\n",
      "유튜브 강의 후기입니다. https://cafe.naver.com/ArticleRead.nhn?clubid=31023030&page=1&userDisplay=50&menuid=15&boardtype=L&articleid=1421&referrerAllArticles=false\n",
      "유투브 후기 https://cafe.naver.com/ArticleRead.nhn?clubid=31023030&page=1&userDisplay=50&menuid=15&boardtype=L&articleid=1420&referrerAllArticles=false\n",
      "유튜브 후기입니다. https://cafe.naver.com/ArticleRead.nhn?clubid=31023030&page=1&userDisplay=50&menuid=15&boardtype=L&articleid=1408&referrerAllArticles=false\n",
      "유튜브 후기 올립니다. 좋은 강의 공유해주셔서 감사해요! https://cafe.naver.com/ArticleRead.nhn?clubid=31023030&page=1&userDisplay=50&menuid=15&boardtype=L&articleid=1405&referrerAllArticles=false\n",
      "다시 코딩을 할 수 있어 기쁘네요 https://cafe.naver.com/ArticleRead.nhn?clubid=31023030&page=1&userDisplay=50&menuid=15&boardtype=L&articleid=1404&referrerAllArticles=false\n",
      "인프런 후기 입니다 https://cafe.naver.com/ArticleRead.nhn?clubid=31023030&page=1&userDisplay=50&menuid=15&boardtype=L&articleid=1401&referrerAllArticles=false\n",
      "유튜브 후기 올립니다. https://cafe.naver.com/ArticleRead.nhn?clubid=31023030&page=1&userDisplay=50&menuid=15&boardtype=L&articleid=1399&referrerAllArticles=false\n",
      "유튜브 후기 올립니다! https://cafe.naver.com/ArticleRead.nhn?clubid=31023030&page=1&userDisplay=50&menuid=15&boardtype=L&articleid=1397&referrerAllArticles=false\n",
      "유튜브 후기 올립니다! https://cafe.naver.com/ArticleRead.nhn?clubid=31023030&page=1&userDisplay=50&menuid=15&boardtype=L&articleid=1394&referrerAllArticles=false\n",
      "유투브 영상 후기 입니다. https://cafe.naver.com/ArticleRead.nhn?clubid=31023030&page=1&userDisplay=50&menuid=15&boardtype=L&articleid=1387&referrerAllArticles=false\n",
      "유튜브 후기 올립니다~ https://cafe.naver.com/ArticleRead.nhn?clubid=31023030&page=1&userDisplay=50&menuid=15&boardtype=L&articleid=1384&referrerAllArticles=false\n",
      "유튜브 후기입니다. https://cafe.naver.com/ArticleRead.nhn?clubid=31023030&page=1&userDisplay=50&menuid=15&boardtype=L&articleid=1381&referrerAllArticles=false\n",
      "유튜브 후기입니다. https://cafe.naver.com/ArticleRead.nhn?clubid=31023030&page=1&userDisplay=50&menuid=15&boardtype=L&articleid=1379&referrerAllArticles=false\n",
      "유튜브 후기 올립니다 https://cafe.naver.com/ArticleRead.nhn?clubid=31023030&page=1&userDisplay=50&menuid=15&boardtype=L&articleid=1376&referrerAllArticles=false\n",
      "유튜브 후기입니다! https://cafe.naver.com/ArticleRead.nhn?clubid=31023030&page=1&userDisplay=50&menuid=15&boardtype=L&articleid=1373&referrerAllArticles=false\n",
      "유튜브 후기입니다. https://cafe.naver.com/ArticleRead.nhn?clubid=31023030&page=1&userDisplay=50&menuid=15&boardtype=L&articleid=1371&referrerAllArticles=false\n",
      "유튜브 후기 작성합니다 https://cafe.naver.com/ArticleRead.nhn?clubid=31023030&page=1&userDisplay=50&menuid=15&boardtype=L&articleid=1369&referrerAllArticles=false\n",
      "유튜브후기입니다 https://cafe.naver.com/ArticleRead.nhn?clubid=31023030&page=1&userDisplay=50&menuid=15&boardtype=L&articleid=1368&referrerAllArticles=false\n",
      "유튜브 후기입니다 https://cafe.naver.com/ArticleRead.nhn?clubid=31023030&page=1&userDisplay=50&menuid=15&boardtype=L&articleid=1366&referrerAllArticles=false\n",
      "유튜브 후기 입니다. https://cafe.naver.com/ArticleRead.nhn?clubid=31023030&page=1&userDisplay=50&menuid=15&boardtype=L&articleid=1365&referrerAllArticles=false\n",
      "후기입니다. https://cafe.naver.com/ArticleRead.nhn?clubid=31023030&page=1&userDisplay=50&menuid=15&boardtype=L&articleid=1362&referrerAllArticles=false\n",
      "유튜브 후기(인데 사실 오늘 처음 실습 시작한....!) https://cafe.naver.com/ArticleRead.nhn?clubid=31023030&page=1&userDisplay=50&menuid=15&boardtype=L&articleid=1350&referrerAllArticles=false\n",
      "유튜브 후기입니다. https://cafe.naver.com/ArticleRead.nhn?clubid=31023030&page=1&userDisplay=50&menuid=15&boardtype=L&articleid=1342&referrerAllArticles=false\n",
      "책임지십쇼..... https://cafe.naver.com/ArticleRead.nhn?clubid=31023030&page=1&userDisplay=50&menuid=15&boardtype=L&articleid=1338&referrerAllArticles=false\n",
      "정리가 잘된 강좌를 듣고 이번에는 더 많은 발전이 있을꺼라는 자신이 생겼습니다. https://cafe.naver.com/ArticleRead.nhn?clubid=31023030&page=1&userDisplay=50&menuid=15&boardtype=L&articleid=1337&referrerAllArticles=false\n",
      "유튜브 후기 입니다. https://cafe.naver.com/ArticleRead.nhn?clubid=31023030&page=1&userDisplay=50&menuid=15&boardtype=L&articleid=1331&referrerAllArticles=false\n",
      "크롤링강의 완강후 사진입니다. https://cafe.naver.com/ArticleRead.nhn?clubid=31023030&page=1&userDisplay=50&menuid=15&boardtype=L&articleid=1330&referrerAllArticles=false\n",
      "많이 배우겠습니다. https://cafe.naver.com/ArticleRead.nhn?clubid=31023030&page=1&userDisplay=50&menuid=15&boardtype=L&articleid=1329&referrerAllArticles=false\n",
      "유튜브 보고 공부 시작했습니다. https://cafe.naver.com/ArticleRead.nhn?clubid=31023030&page=1&userDisplay=50&menuid=15&boardtype=L&articleid=1327&referrerAllArticles=false\n",
      "유튜브 보고 후기남기게되었습니다 (진지ㅋ) https://cafe.naver.com/ArticleRead.nhn?clubid=31023030&page=1&userDisplay=50&menuid=15&boardtype=L&articleid=1324&referrerAllArticles=false\n",
      "저도 코딩 고수가 되고 싶어요! https://cafe.naver.com/ArticleRead.nhn?clubid=31023030&page=1&userDisplay=50&menuid=15&boardtype=L&articleid=1322&referrerAllArticles=false\n",
      "유투브 후기입니다. https://cafe.naver.com/ArticleRead.nhn?clubid=31023030&page=1&userDisplay=50&menuid=15&boardtype=L&articleid=1314&referrerAllArticles=false\n",
      "나에게 알맞는 강의영상 https://cafe.naver.com/ArticleRead.nhn?clubid=31023030&page=1&userDisplay=50&menuid=15&boardtype=L&articleid=1312&referrerAllArticles=false\n",
      "파이썬 문법, 웹크롤링, 엑셀 자동화을 다시 배우다 https://cafe.naver.com/ArticleRead.nhn?clubid=31023030&page=1&userDisplay=50&menuid=15&boardtype=L&articleid=1308&referrerAllArticles=false\n",
      "유튜브 후기 입니다. https://cafe.naver.com/ArticleRead.nhn?clubid=31023030&page=1&userDisplay=50&menuid=15&boardtype=L&articleid=1304&referrerAllArticles=false\n",
      "유튜브 후기입니다. https://cafe.naver.com/ArticleRead.nhn?clubid=31023030&page=1&userDisplay=50&menuid=15&boardtype=L&articleid=1303&referrerAllArticles=false\n",
      "유튜브 후기 입니다 https://cafe.naver.com/ArticleRead.nhn?clubid=31023030&page=1&userDisplay=50&menuid=15&boardtype=L&articleid=1302&referrerAllArticles=false\n",
      "스타트코딩 님의 목소리에 이끌려 왔습니다. https://cafe.naver.com/ArticleRead.nhn?clubid=31023030&page=1&userDisplay=50&menuid=15&boardtype=L&articleid=1300&referrerAllArticles=false\n",
      "유튜브후기 작성~~ https://cafe.naver.com/ArticleRead.nhn?clubid=31023030&page=1&userDisplay=50&menuid=15&boardtype=L&articleid=1298&referrerAllArticles=false\n",
      "쉽고 머리에 쏙쏙 들어오는 강의 감사 드립니다. https://cafe.naver.com/ArticleRead.nhn?clubid=31023030&page=1&userDisplay=50&menuid=15&boardtype=L&articleid=1297&referrerAllArticles=false\n",
      "유튭 강의 정말 대박이네요! https://cafe.naver.com/ArticleRead.nhn?clubid=31023030&page=1&userDisplay=50&menuid=15&boardtype=L&articleid=1296&referrerAllArticles=false\n",
      "웹크롤링 & 엑셀 자동화 후기 https://cafe.naver.com/ArticleRead.nhn?clubid=31023030&page=1&userDisplay=50&menuid=15&boardtype=L&articleid=1292&referrerAllArticles=false\n",
      "[후기]스타트코딩 잘 보았습니다. https://cafe.naver.com/ArticleRead.nhn?clubid=31023030&page=1&userDisplay=50&menuid=15&boardtype=L&articleid=1290&referrerAllArticles=false\n",
      "엑셀과 웹크롤링 유튜브 강의 최고입니다! https://cafe.naver.com/ArticleRead.nhn?clubid=31023030&page=1&userDisplay=50&menuid=15&boardtype=L&articleid=1288&referrerAllArticles=false\n",
      "안녕하세요. https://cafe.naver.com/ArticleRead.nhn?clubid=31023030&page=1&userDisplay=50&menuid=15&boardtype=L&articleid=1287&referrerAllArticles=false\n",
      "유툽 후기 https://cafe.naver.com/ArticleRead.nhn?clubid=31023030&page=1&userDisplay=50&menuid=15&boardtype=L&articleid=1286&referrerAllArticles=false\n",
      "안녕하세요 웹 크롤링 영상 보고 유입됐습니다.... https://cafe.naver.com/ArticleRead.nhn?clubid=31023030&page=1&userDisplay=50&menuid=15&boardtype=L&articleid=1283&referrerAllArticles=false\n"
     ]
    }
   ],
   "source": [
    "posts = driver.find_elements(By.CSS_SELECTOR, \".article-board.m-tcol-c:not(#upperArticleList) .article\" )\n",
    "\n",
    "for post in posts:\n",
    "    title = post.text\n",
    "    link = post.get_attribute('href')\n",
    "\n",
    "    print(title ,link)"
   ]
  }
 ],
 "metadata": {
  "kernelspec": {
   "display_name": "Python 3",
   "language": "python",
   "name": "python3"
  },
  "language_info": {
   "codemirror_mode": {
    "name": "ipython",
    "version": 3
   },
   "file_extension": ".py",
   "mimetype": "text/x-python",
   "name": "python",
   "nbconvert_exporter": "python",
   "pygments_lexer": "ipython3",
   "version": "3.13.0"
  }
 },
 "nbformat": 4,
 "nbformat_minor": 2
}
