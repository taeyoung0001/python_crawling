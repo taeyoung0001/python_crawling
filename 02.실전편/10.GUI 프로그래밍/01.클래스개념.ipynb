{
 "cells": [
  {
   "cell_type": "code",
   "execution_count": 44,
   "metadata": {},
   "outputs": [],
   "source": [
    "class Charactor:\n",
    "    def __init__(self, name, hp):\n",
    "        self.unit_name = name\n",
    "        self.unit_hp = hp\n",
    "\n",
    "    def say(self):\n",
    "        print(f\"나는 {self.unit_name}(이)다\")\n",
    "\n",
    "    def info(self):\n",
    "        print(f\"-\" * 10)\n",
    "        print(f\"이름: {self.unit_name}\")\n",
    "        print(f\"체력: {self.unit_hp}\")\n",
    "        print(f\"-\" * 10)"
   ]
  },
  {
   "cell_type": "code",
   "execution_count": 49,
   "metadata": {},
   "outputs": [
    {
     "name": "stdout",
     "output_type": "stream",
     "text": [
      "----------\n",
      "이름: 젤다\n",
      "체력: 10\n",
      "----------\n"
     ]
    },
    {
     "data": {
      "text/plain": [
       "10"
      ]
     },
     "execution_count": 49,
     "metadata": {},
     "output_type": "execute_result"
    }
   ],
   "source": [
    "zelda = Charactor(\"젤다\", 10)\n",
    "\n",
    "#info 메서드 호출\n",
    "zelda.info()\n",
    "\n",
    "#속성 호출\n",
    "zelda.unit_hp\n"
   ]
  },
  {
   "cell_type": "code",
   "execution_count": 48,
   "metadata": {},
   "outputs": [
    {
     "name": "stdout",
     "output_type": "stream",
     "text": [
      "----------\n",
      "이름: 링크\n",
      "체력: 20\n",
      "----------\n"
     ]
    }
   ],
   "source": [
    "link = Charactor(\"링크\",20)\n",
    "link.info()"
   ]
  }
 ],
 "metadata": {
  "kernelspec": {
   "display_name": "Python 3",
   "language": "python",
   "name": "python3"
  },
  "language_info": {
   "codemirror_mode": {
    "name": "ipython",
    "version": 3
   },
   "file_extension": ".py",
   "mimetype": "text/x-python",
   "name": "python",
   "nbconvert_exporter": "python",
   "pygments_lexer": "ipython3",
   "version": "3.13.0"
  }
 },
 "nbformat": 4,
 "nbformat_minor": 2
}
