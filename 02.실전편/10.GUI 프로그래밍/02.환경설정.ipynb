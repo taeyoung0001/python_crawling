{
 "cells": [
  {
   "cell_type": "code",
   "execution_count": 1,
   "metadata": {},
   "outputs": [
    {
     "name": "stdout",
     "output_type": "stream",
     "text": [
      "Requirement already satisfied: pyside6 in c:\\users\\uk\\appdata\\local\\programs\\python\\python313\\lib\\site-packages (6.8.1)\n",
      "Requirement already satisfied: shiboken6==6.8.1 in c:\\users\\uk\\appdata\\local\\programs\\python\\python313\\lib\\site-packages (from pyside6) (6.8.1)\n",
      "Requirement already satisfied: PySide6-Essentials==6.8.1 in c:\\users\\uk\\appdata\\local\\programs\\python\\python313\\lib\\site-packages (from pyside6) (6.8.1)\n",
      "Requirement already satisfied: PySide6-Addons==6.8.1 in c:\\users\\uk\\appdata\\local\\programs\\python\\python313\\lib\\site-packages (from pyside6) (6.8.1)\n",
      "Note: you may need to restart the kernel to use updated packages.\n"
     ]
    },
    {
     "name": "stderr",
     "output_type": "stream",
     "text": [
      "\n",
      "[notice] A new release of pip is available: 24.2 -> 24.3.1\n",
      "[notice] To update, run: python.exe -m pip install --upgrade pip\n"
     ]
    }
   ],
   "source": [
    "pip install pyside6"
   ]
  },
  {
   "cell_type": "code",
   "execution_count": 2,
   "metadata": {},
   "outputs": [
    {
     "name": "stdout",
     "output_type": "stream",
     "text": [
      "Requirement already satisfied: pyinstaller in c:\\users\\uk\\appdata\\local\\programs\\python\\python313\\lib\\site-packages (6.11.1)\n",
      "Requirement already satisfied: setuptools>=42.0.0 in c:\\users\\uk\\appdata\\local\\programs\\python\\python313\\lib\\site-packages (from pyinstaller) (75.6.0)\n",
      "Requirement already satisfied: altgraph in c:\\users\\uk\\appdata\\local\\programs\\python\\python313\\lib\\site-packages (from pyinstaller) (0.17.4)\n",
      "Requirement already satisfied: pyinstaller-hooks-contrib>=2024.9 in c:\\users\\uk\\appdata\\local\\programs\\python\\python313\\lib\\site-packages (from pyinstaller) (2024.10)\n",
      "Requirement already satisfied: packaging>=22.0 in c:\\users\\uk\\appdata\\roaming\\python\\python313\\site-packages (from pyinstaller) (24.2)\n",
      "Requirement already satisfied: pefile!=2024.8.26,>=2022.5.30 in c:\\users\\uk\\appdata\\local\\programs\\python\\python313\\lib\\site-packages (from pyinstaller) (2023.2.7)\n",
      "Requirement already satisfied: pywin32-ctypes>=0.2.1 in c:\\users\\uk\\appdata\\local\\programs\\python\\python313\\lib\\site-packages (from pyinstaller) (0.2.3)\n",
      "Note: you may need to restart the kernel to use updated packages.\n"
     ]
    },
    {
     "name": "stderr",
     "output_type": "stream",
     "text": [
      "\n",
      "[notice] A new release of pip is available: 24.2 -> 24.3.1\n",
      "[notice] To update, run: python.exe -m pip install --upgrade pip\n"
     ]
    }
   ],
   "source": [
    "pip install pyinstaller"
   ]
  }
 ],
 "metadata": {
  "kernelspec": {
   "display_name": "Python 3",
   "language": "python",
   "name": "python3"
  },
  "language_info": {
   "codemirror_mode": {
    "name": "ipython",
    "version": 3
   },
   "file_extension": ".py",
   "mimetype": "text/x-python",
   "name": "python",
   "nbconvert_exporter": "python",
   "pygments_lexer": "ipython3",
   "version": "3.13.0"
  }
 },
 "nbformat": 4,
 "nbformat_minor": 2
}
