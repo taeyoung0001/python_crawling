{
 "cells": [
  {
   "cell_type": "code",
   "execution_count": null,
   "metadata": {},
   "outputs": [],
   "source": [
    "#  제목, 링크, 내용, 언론사, 날짜 get으로 가져오기\n",
    "\n",
    "import requests\n",
    "from bs4 import BeautifulSoup\n",
    "import pandas as pd \n",
    "\n",
    "\n",
    "data = []\n",
    "for i in range(1,9999) :\n",
    "\n",
    "    response = requests.get(f\"https://finance.naver.com/news/mainnews.naver?date=2024-11-29&page={i}\")\n",
    "    html = response.text\n",
    "    soup = BeautifulSoup(html , 'html.parser')\n",
    "    items = soup.select('.block1')\n",
    "    for item in items :\n",
    "        \n",
    "        title = item.select_one('.articleSubject > a').text\n",
    "        link = 'https://finance.naver.com' + item.select_one('.articleSubject > a').attrs['href']\n",
    "        content = item.select_one('.articleSummary').contents[0].strip()\n",
    "        press = item.select_one('.press').text\n",
    "        wdate = item.select_one('.wdate').text\n",
    "        print(title, link, content, press, wdate)\n",
    "   \n",
    "        data.append([title, link, content, press, wdate])\n",
    "\n",
    "    if soup.select_one(\".pgRR\") == None :\n",
    "        break\n",
    "\n",
    "# 엑셀 데이터 프레임 만들기\n",
    "\n",
    "df = pd.DataFrame(data, columns = ['제목' , '링크' , '내용' , '언론사' , '날짜'])\n",
    "df\n",
    "df.to_excel(\"naver_result.xlsx\")"
   ]
  }
 ],
 "metadata": {
  "kernelspec": {
   "display_name": "Python 3",
   "language": "python",
   "name": "python3"
  },
  "language_info": {
   "codemirror_mode": {
    "name": "ipython",
    "version": 3
   },
   "file_extension": ".py",
   "mimetype": "text/x-python",
   "name": "python",
   "nbconvert_exporter": "python",
   "pygments_lexer": "ipython3",
   "version": "3.13.0"
  }
 },
 "nbformat": 4,
 "nbformat_minor": 2
}
