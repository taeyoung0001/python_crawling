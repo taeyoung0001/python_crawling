{
 "cells": [
  {
   "cell_type": "code",
   "execution_count": 117,
   "metadata": {},
   "outputs": [
    {
     "name": "stdout",
     "output_type": "stream",
     "text": [
      "2024.11.13. 삼성전자반도체 근무중(점심시간 뇌출혈)...  https://kin.naver.com/qna/detail.naver?d1id=6&dirId=6100403&docId=477806009&qb=7IK87ISx7KCE7J6Q&enc=utf8§ion=kin.qna_ency&rank=1&search_sort=0&spq=0 산업재해보상보험 7\n",
      "2024.11.20. 삼성전자 배당금 지급일과 지급액은...  https://kin.naver.com/qna/detail.naver?d1id=4&dirId=40102&docId=478122502&qb=7IK87ISx7KCE7J6Q&enc=utf8§ion=kin.qna_ency&rank=2&search_sort=0&spq=0 주식, 증권 2\n",
      "2024.11.13. 삼성전자 5급 채용 https://kin.naver.com/qna/detail.naver?d1id=4&dirId=40609&docId=477072423&qb=7IK87ISx7KCE7J6Q&enc=utf8§ion=kin.qna_ency&rank=3&search_sort=0&spq=0 생산, 기술 2\n",
      "2024.11.07. 삼성전자 사운드바 엘지tv와...  https://kin.naver.com/qna/detail.naver?d1id=5&dirId=50103&docId=477588576&qb=7IK87ISx7KCE7J6Q&enc=utf8§ion=kin.qna_ency&rank=4&search_sort=0&spq=0 영상, 음향 가전 4\n",
      "2024.11.14. 삼성전자 주식 https://kin.naver.com/qna/detail.naver?d1id=4&dirId=40102&docId=477887994&qb=7IK87ISx7KCE7J6Q&enc=utf8§ion=kin.qna_ency&rank=5&search_sort=0&spq=0 주식, 증권 6\n",
      "2024.11.02. 삼성전자 ds dx https://kin.naver.com/qna/detail.naver?d1id=11&dirId=1114&docId=439344340&qb=7IK87ISx7KCE7J6Q&enc=utf8§ion=kin.qna_ency&rank=6&search_sort=0&spq=0 물리학 2\n",
      "2024.11.22. 삼성전자 55인치 4K UHD 디지털...  https://kin.naver.com/qna/detail.naver?d1id=1&dirId=10901&docId=475740072&qb=7IK87ISx7KCE7J6Q&enc=utf8§ion=kin.qna_ency&rank=7&search_sort=0&spq=0 케이블TV 2\n",
      "2024.10.29. 삼성전자우 주가 고견좀 부탁드립니다 https://kin.naver.com/qna/detail.naver?d1id=11&dirId=110408&docId=476021086&qb=7IK87ISx7KCE7J6Q&enc=utf8§ion=kin.qna_ency&rank=8&search_sort=0&spq=0 대학 입시, 진학 6\n",
      "2024.11.20. 삼성전자 전망이 어떻게 되나요 https://kin.naver.com/qna/detail.naver?d1id=4&dirId=40102&docId=476155123&qb=7IK87ISx7KCE7J6Q&enc=utf8§ion=kin.qna_ency&rank=9&search_sort=0&spq=0 주식, 증권 4\n",
      "2024.11.15. 삼성전자 자사주 분할매입이...  https://kin.naver.com/qna/detail.naver?d1id=4&dirId=40102&docId=477939157&qb=7IK87ISx7KCE7J6Q&enc=utf8§ion=kin.qna_ency&rank=10&search_sort=0&spq=0 주식, 증권 5\n",
      "2024.10.24. 삼성전자서비스 센터에 갈 때 https://kin.naver.com/qna/detail.naver?d1id=8&dirId=814&docId=437422316&qb=7IK87ISx7KCE7J6Q&enc=utf8§ion=kin.qna_ency&rank=11&search_sort=0&spq=0 기타 2\n",
      "2024.10.22. 삼성전자 주가하락원인. https://kin.naver.com/qna/detail.naver?d1id=4&dirId=40102&docId=476452815&qb=7IK87ISx7KCE7J6Q&enc=utf8§ion=kin.qna_ency&rank=12&search_sort=0&spq=0 주식, 증권 6\n",
      "2024.11.15. 삼성전자 주가 출구가 보일지 https://kin.naver.com/qna/detail.naver?d1id=7&dirId=70702&docId=477877130&qb=7IK87ISx7KCE7J6Q&enc=utf8§ion=kin.qna_ency&rank=13&search_sort=0&spq=0 요가, 필라테스 5\n",
      "2024.08.13. 삼성전자 1억 매수 어때요? https://kin.naver.com/qna/detail.naver?d1id=4&dirId=40102&docId=473897632&qb=7IK87ISx7KCE7J6Q&enc=utf8§ion=kin.qna_ency&rank=14&search_sort=0&spq=0 주식, 증권 9\n",
      "2024.07.18. 삼성전자 본사 위치가 어딘가요? https://kin.naver.com/qna/detail.naver?d1id=1&dirId=107040201&docId=472663460&qb=7IK87ISx7KCE7J6Q&enc=utf8§ion=kin.qna_ency&rank=15&search_sort=0&spq=0 삼성 3\n",
      "2024.11.29. 삼성전자 오디세이G5 S32CG550 QHD...  https://kin.naver.com/qna/detail.naver?d1id=5&dirId=5020401&docId=478500040&qb=7IK87ISx7KCE7J6Q&enc=utf8§ion=kin.qna_ency&rank=16&search_sort=0&spq=0 모니터 1\n",
      "2024.11.14. 삼성전자 주가 견디는게 좋을까요 https://kin.naver.com/qna/detail.naver?d1id=11&dirId=110408&docId=477833394&qb=7IK87ISx7KCE7J6Q&enc=utf8§ion=kin.qna_ency&rank=17&search_sort=0&spq=0 대학 입시, 진학 3\n",
      "2024.11.26. 삼성전자 서비스센터 예약 https://kin.naver.com/qna/detail.naver?d1id=1&dirId=107040201&docId=475043882&qb=7IK87ISx7KCE7J6Q&enc=utf8§ion=kin.qna_ency&rank=18&search_sort=0&spq=0 삼성 5\n",
      "2024.10.14. 삼성전자 주가가 왜 떨어지죠? https://kin.naver.com/qna/detail.naver?d1id=4&dirId=408&docId=476469656&qb=7IK87ISx7KCE7J6Q&enc=utf8§ion=kin.qna_ency&rank=19&search_sort=0&spq=0 경제 정책, 제도 8\n",
      "2024.10.28. 주식 초보 질문(삼성전자) https://kin.naver.com/qna/detail.naver?d1id=4&dirId=40102&docId=477207892&qb=7IK87ISx7KCE7J6Q&enc=utf8§ion=kin.qna_ency&rank=20&search_sort=0&spq=0 주식, 증권 5\n",
      "2024.08.13. 삼성전자 주가 어때요? https://kin.naver.com/qna/detail.naver?d1id=8&dirId=80301&docId=473890696&qb=7IK87ISx7KCE7J6Q&enc=utf8§ion=kin.qna_ency&rank=21&search_sort=0&spq=0 피부관리 11\n",
      "2024.11.06. 이번 코리아세일페스타 삼성전자도 할인...  https://kin.naver.com/qna/detail.naver?d1id=5&dirId=501&docId=477532757&qb=7IK87ISx7KCE7J6Q&enc=utf8§ion=kin.qna_ency&rank=22&search_sort=0&spq=0 가전제품 21\n",
      "2024.11.01. 삼성전자의 마케팅 믹스 https://kin.naver.com/qna/detail.naver?d1id=1&dirId=10503&docId=477345412&qb=7IK87ISx7KCE7J6Q&enc=utf8§ion=kin.qna_ency&rank=23&search_sort=0&spq=0 웹 서버구축, 호스팅 2\n",
      "2024.05.21. 삼성전자매장에서 갤럭시 자급제 살수...  https://kin.naver.com/qna/detail.naver?d1id=5&dirId=5010602&docId=469930383&qb=7IK87ISx7KCE7J6Q&enc=utf8§ion=kin.qna_ency&rank=24&search_sort=0&spq=0 안드로이드폰 4\n",
      "2024.11.01. 삼성전자 로봇청소기 https://kin.naver.com/qna/detail.naver?d1id=5&dirId=501&docId=476179881&qb=7IK87ISx7KCE7J6Q&enc=utf8§ion=kin.qna_ency&rank=25&search_sort=0&spq=0 가전제품 5\n",
      "2024.11.07. 삼성전자로지텍 https://kin.naver.com/qna/detail.naver?d1id=1&dirId=10901&docId=420915177&qb=7IK87ISx7KCE7J6Q&enc=utf8§ion=kin.qna_ency&rank=26&search_sort=0&spq=0 케이블TV 2\n",
      "2024.11.02. 삼성전자 연봉 https://kin.naver.com/qna/detail.naver?d1id=4&dirId=40609&docId=413167650&qb=7IK87ISx7KCE7J6Q&enc=utf8§ion=kin.qna_ency&rank=27&search_sort=0&spq=0 생산, 기술 2\n",
      "2024.11.08. CLP-680ND 삼성전자 레이져 프린터...  https://kin.naver.com/qna/detail.naver?d1id=1&dirId=1010404&docId=477615882&qb=7IK87ISx7KCE7J6Q&enc=utf8§ion=kin.qna_ency&rank=28&search_sort=0&spq=0 프린터, 복합기 2\n",
      "2024.11.29. 삼성전자 갤럭시북4 추천 https://kin.naver.com/qna/detail.naver?d1id=1&dirId=10102&docId=478490961&qb=7IK87ISx7KCE7J6Q&enc=utf8§ion=kin.qna_ency&rank=29&search_sort=0&spq=0 노트북 3\n",
      "2024.05.20. 삼성전자 배당금 https://kin.naver.com/qna/detail.naver?d1id=4&dirId=40102&docId=469870616&qb=7IK87ISx7KCE7J6Q&enc=utf8§ion=kin.qna_ency&rank=30&search_sort=0&spq=0 주식, 증권 5\n",
      "2024.10.27. 삼성전자DS 장애인부문 4급 신입사원...  https://kin.naver.com/qna/detail.naver?d1id=4&dirId=40609&docId=393091530&qb=7IK87ISx7KCE7J6Q&enc=utf8§ion=kin.qna_ency&rank=31&search_sort=0&spq=0 생산, 기술 5\n",
      "2024.11.12. 2024 삼성전자 5급 채용 https://kin.naver.com/qna/detail.naver?d1id=4&dirId=40609&docId=466263222&qb=7IK87ISx7KCE7J6Q&enc=utf8§ion=kin.qna_ency&rank=32&search_sort=0&spq=0 생산, 기술 3\n",
      "2024.11.11. 삼성전자 주식 어케되는거죠 https://kin.naver.com/qna/detail.naver?d1id=4&dirId=40102&docId=477751145&qb=7IK87ISx7KCE7J6Q&enc=utf8§ion=kin.qna_ency&rank=33&search_sort=0&spq=0 주식, 증권 8\n",
      "2024.09.12. 삼성전자 배당금 지급일 https://kin.naver.com/qna/detail.naver?d1id=11&dirId=1107&docId=383486890&qb=7IK87ISx7KCE7J6Q&enc=utf8§ion=kin.qna_ency&rank=34&search_sort=0&spq=0 평생교육 5\n",
      "2024.10.24. 삼성전자서비스센터 수리 https://kin.naver.com/qna/detail.naver?d1id=1&dirId=107040202&docId=386290942&qb=7IK87ISx7KCE7J6Q&enc=utf8§ion=kin.qna_ency&rank=35&search_sort=0&spq=0 LG 2\n",
      "2024.11.22. 삼성전자 85인치 벽걸이TV 질문 https://kin.naver.com/qna/detail.naver?d1id=1&dirId=10901&docId=477691915&qb=7IK87ISx7KCE7J6Q&enc=utf8§ion=kin.qna_ency&rank=36&search_sort=0&spq=0 케이블TV 2\n",
      "2024.11.13. 삼성전자 주가 하락과 상승의 이유는? https://kin.naver.com/qna/detail.naver?d1id=4&dirId=40102&docId=476769663&qb=7IK87ISx7KCE7J6Q&enc=utf8§ion=kin.qna_ency&rank=37&search_sort=0&spq=0 주식, 증권 10\n",
      "2024.11.26. 삼성전자 서비스센터 경주센터 갈 때...  https://kin.naver.com/qna/detail.naver?d1id=1&dirId=107040202&docId=453430802&qb=7IK87ISx7KCE7J6Q&enc=utf8§ion=kin.qna_ency&rank=38&search_sort=0&spq=0 LG 7\n",
      "2024.11.02. 안녕하세요 삼성전자 평균 연봉이 1억 https://kin.naver.com/qna/detail.naver?d1id=4&dirId=406&docId=405852085&qb=7IK87ISx7KCE7J6Q&enc=utf8§ion=kin.qna_ency&rank=39&search_sort=0&spq=0 직업, 취업 4\n",
      "2024.03.29. 삼성전자 배당락일 https://kin.naver.com/qna/detail.naver?d1id=4&dirId=40102&docId=467078123&qb=7IK87ISx7KCE7J6Q&enc=utf8§ion=kin.qna_ency&rank=40&search_sort=0&spq=0 주식, 증권 7\n",
      "2024.08.06. 삼성전자 면접 대비하는 학원 개강 보통...  https://kin.naver.com/qna/detail.naver?d1id=4&dirId=406&docId=371951229&qb=7IK87ISx7KCE7J6Q&enc=utf8§ion=kin.qna_ency&rank=41&search_sort=0&spq=0 직업, 취업 6\n",
      "2024.11.21. 삼성전자 채용기간좀 알려주세요 https://kin.naver.com/qna/detail.naver?d1id=4&dirId=40609&docId=477771441&qb=7IK87ISx7KCE7J6Q&enc=utf8§ion=kin.qna_ency&rank=42&search_sort=0&spq=0 생산, 기술 2\n",
      "2024.10.24. 삼성전자서비스센터 안동점 https://kin.naver.com/qna/detail.naver?d1id=11&dirId=1118&docId=371444602&qb=7IK87ISx7KCE7J6Q&enc=utf8§ion=kin.qna_ency&rank=43&search_sort=0&spq=0 전기, 전자 공학 2\n",
      "2024.01.17. 삼성전자 설비 5급 날짜 관련 질문입니다. https://kin.naver.com/qna/detail.naver?d1id=4&dirId=406&docId=461300094&qb=7IK87ISx7KCE7J6Q&enc=utf8§ion=kin.qna_ency&rank=44&search_sort=0&spq=0 직업, 취업 2\n",
      "2024.10.24. 삼성전자 서비스센터 https://kin.naver.com/qna/detail.naver?d1id=1&dirId=107040201&docId=462376075&qb=7IK87ISx7KCE7J6Q&enc=utf8§ion=kin.qna_ency&rank=45&search_sort=0&spq=0 삼성 2\n",
      "2024.10.24. 삼성전자 서비스센터 예약 https://kin.naver.com/qna/detail.naver?d1id=8&dirId=80901&docId=462112162&qb=7IK87ISx7KCE7J6Q&enc=utf8§ion=kin.qna_ency&rank=46&search_sort=0&spq=0 청소, 수리 5\n",
      "2024.10.27. 삼성전자 5급 DS 설비엔지니어직 지사트...  https://kin.naver.com/qna/detail.naver?d1id=4&dirId=40609&docId=469894586&qb=7IK87ISx7KCE7J6Q&enc=utf8§ion=kin.qna_ency&rank=47&search_sort=0&spq=0 생산, 기술 5\n",
      "2024.11.15. 삼성전자 망한 이유 https://kin.naver.com/qna/detail.naver?d1id=10&dirId=1001020206&docId=477885662&qb=7IK87ISx7KCE7J6Q&enc=utf8§ion=kin.qna_ency&rank=48&search_sort=0&spq=0 삼성라이온즈 2\n",
      "2024.10.24. 삼성전자서비스센터에 대한 질문 https://kin.naver.com/qna/detail.naver?d1id=1&dirId=107040201&docId=251060550&qb=7IK87ISx7KCE7J6Q&enc=utf8§ion=kin.qna_ency&rank=49&search_sort=0&spq=0 삼성 3\n",
      "2024.11.28. 삼성전자 JBL T510BT 아이폰 호환...  https://kin.naver.com/qna/detail.naver?d1id=3&dirId=30216&docId=478305886&qb=7IK87ISx7KCE7J6Q&enc=utf8§ion=kin.qna_ency&rank=50&search_sort=0&spq=0 컴퓨터음악 1\n"
     ]
    }
   ],
   "source": [
    "import requests\n",
    "from bs4 import BeautifulSoup\n",
    "import pandas as pd \n",
    "\n",
    "page = int(input(\"몇 페이지까지 크롤링 하시겠습니까?\")) \n",
    "\n",
    "data= []\n",
    "for i in range(1, page + 1) :\n",
    "    response = requests.get(f\"https://kin.naver.com/search/list.naver?query=%EC%82%BC%EC%84%B1%EC%A0%84%EC%9E%90&page={i}\")\n",
    "    html = response.text\n",
    "    soup = BeautifulSoup(html , 'html.parser')\n",
    "    items = soup.select('.basic1 > li ')\n",
    "    for item in items :\n",
    "            \n",
    "        title = item.select_one('._nclicks\\\\:kin\\\\.txt._searchListTitleAnchor').text\n",
    "        link = item.select_one('._nclicks\\\\:kin\\\\.txt._searchListTitleAnchor').attrs['href']\n",
    "        date = item.select_one('.txt_inline').text\n",
    "        category = item.select_one(\".txt_g1._nclicks\\\\:kin\\\\.cat2\").text\n",
    "        review = item.select_one('.hit').text.replace(\"답변수\" , \"\").strip()\n",
    "\n",
    "        print(date, title, link, category, review)\n",
    "        data.append([date, title, link, category, review])\n",
    "\n",
    "df = pd.DataFrame(data, columns= [\"날짜\", \"제목\" , \"링크\" , \"카테고리\" , \"리뷰수\" ])     \n",
    "df.to_excel(\"naver_knowledge_result.xlsx\") "
   ]
  },
  {
   "cell_type": "code",
   "execution_count": null,
   "metadata": {},
   "outputs": [],
   "source": []
  }
 ],
 "metadata": {
  "kernelspec": {
   "display_name": "Python 3",
   "language": "python",
   "name": "python3"
  },
  "language_info": {
   "codemirror_mode": {
    "name": "ipython",
    "version": 3
   },
   "file_extension": ".py",
   "mimetype": "text/x-python",
   "name": "python",
   "nbconvert_exporter": "python",
   "pygments_lexer": "ipython3",
   "version": "3.13.0"
  }
 },
 "nbformat": 4,
 "nbformat_minor": 2
}
