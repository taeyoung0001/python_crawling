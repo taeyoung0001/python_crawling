{
 "cells": [
  {
   "cell_type": "code",
   "execution_count": 1,
   "metadata": {},
   "outputs": [
    {
     "name": "stdout",
     "output_type": "stream",
     "text": [
      "1\n",
      "2\n",
      "3\n",
      "4\n"
     ]
    }
   ],
   "source": [
    "for i in range(1,5) :\n",
    "    print(i)"
   ]
  },
  {
   "cell_type": "code",
   "execution_count": 3,
   "metadata": {},
   "outputs": [
    {
     "data": {
      "text/plain": [
       "'안녕하세요  제 이름은 피카츄 이고, 나이는 3 입니다.'"
      ]
     },
     "execution_count": 3,
     "metadata": {},
     "output_type": "execute_result"
    }
   ],
   "source": [
    "name = '피카츄'\n",
    "age = 3 \n",
    "greeting = f\"안녕하세요  제 이름은 {name} 이고, 나이는 {age} 입니다.\"\n",
    "greeting"
   ]
  },
  {
   "cell_type": "code",
   "execution_count": null,
   "metadata": {},
   "outputs": [],
   "source": [
    "import requests\n",
    "from bs4 import BeautifulSoup\n",
    "\n",
    "for i in range(1, 5) :\n",
    "\n",
    "    response = requests.get(f\"https://startcoding.pythonanywhere.com/basic?keyword={i}\")\n",
    "    html = response.text\n",
    "    soup = BeautifulSoup(html, 'html.parser')\n",
    "    items = soup.select('.product')\n",
    "    for item in items :\n",
    "        category = item.select_one('.product-category').text\n",
    "        name = item.select_one('.product-name').text\n",
    "        link = item.select_one('.product-name > a').attrs['href']\n",
    "        price = item.select_one('.product-price').text.split('원')[0].replace(',' , '')\n",
    "        print(category, name, link, price)\n",
    "\n"
   ]
  },
  {
   "cell_type": "code",
   "execution_count": null,
   "metadata": {},
   "outputs": [],
   "source": [
    "# 3단계 여러개의 페이지 크롤링 하는 방법\n",
    "# url 은 인터넷 주소 형식을 말하는데\n",
    "# 프로토콜 - 도메인 - 페스 - 파라미터(키, 벨류) 이렇게 되어있음\n",
    "# 뒤에 파라미터를 이용해서 원하는 데이터를 뽑을 수 있음 (위와 같이 페이지쪽에 구멍을 뚫음)"
   ]
  }
 ],
 "metadata": {
  "kernelspec": {
   "display_name": "Python 3",
   "language": "python",
   "name": "python3"
  },
  "language_info": {
   "codemirror_mode": {
    "name": "ipython",
    "version": 3
   },
   "file_extension": ".py",
   "mimetype": "text/x-python",
   "name": "python",
   "nbconvert_exporter": "python",
   "pygments_lexer": "ipython3",
   "version": "3.13.0"
  }
 },
 "nbformat": 4,
 "nbformat_minor": 2
}
