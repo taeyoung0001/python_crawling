{
 "cells": [
  {
   "cell_type": "code",
   "execution_count": 1,
   "metadata": {},
   "outputs": [
    {
     "name": "stdout",
     "output_type": "stream",
     "text": [
      "1\n",
      "2\n",
      "3\n",
      "4\n"
     ]
    }
   ],
   "source": [
    "for i in range(1,5) :\n",
    "    print(i)"
   ]
  },
  {
   "cell_type": "code",
   "execution_count": 3,
   "metadata": {},
   "outputs": [
    {
     "data": {
      "text/plain": [
       "'안녕하세요  제 이름은 피카츄 이고, 나이는 3 입니다.'"
      ]
     },
     "execution_count": 3,
     "metadata": {},
     "output_type": "execute_result"
    }
   ],
   "source": [
    "name = '피카츄'\n",
    "age = 3 \n",
    "greeting = f\"안녕하세요  제 이름은 {name} 이고, 나이는 {age} 입니다.\"\n",
    "greeting"
   ]
  },
  {
   "cell_type": "code",
   "execution_count": 9,
   "metadata": {},
   "outputs": [
    {
     "name": "stdout",
     "output_type": "stream",
     "text": [
      "노트북 에이서 스위프트 GO 16 OLED, 스틸 그레이, 코어i7, 512GB, 16GB, WIN11 Home, SFG16-71-77FT #product1_detail.html 1419000\n",
      "노트북 삼성전자 노트북 플러스2 15.6, 퓨어 화이트, NT550XDA-K24AT, 펜티엄, 256GB, 8GB, WIN11 Pro #product2_detail.html 549000\n",
      "노트북 레노버 아이디어패드 슬림 1 15AMN7 15.6, 256GB, Free DOS, 82VG002EKR, 라이젠3, Cloud Grey (82VG), 8GB #product3_detail.html 529000\n",
      "노트북 레노버 V15 G4 AMN 15.6, Arctic Grey, 라이젠3, 256GB, 8GB, WIN11 Home, 82YU0009KR #product4_detail.html 624000\n",
      "노트북 LG 울트라PC 엣지 16, 차콜 그레이, 라이젠5, 256GB, 16GB, WIN11 Home, 16U70R-GA56K #product5_detail.html 1135000\n",
      "노트북 베이직스 베이직북 14 3세대, BB1422SS, 256GB, White, WIN11 Pro, 셀러론, 8GB #product6_detail.html 398000\n",
      "노트북 레노버 아이디어패드 슬림 5i 14IRL 14, Cloud Grey, 코어i5, 512GB, 16GB, Free DOS, 82XD002XKR #product7_detail.html 899000\n",
      "노트북 레노버 아이디어패드 슬림 5 16IRL 16, Cloud Grey, 512GB, 16GB, Free DOS, 82XF001RKR #product8_detail.html 929000\n",
      "노트북 에이서 스위프트 GO 16 OLED, 스틸 그레이, 코어i5, 512GB, 16GB, Free DOS, SFG16-71-51BY #product9_detail.html 1008000\n",
      "노트북 삼성전자 갤럭시북 2 15.6, 500GB, 실버, NT550XED-K78AS, 코어i7, 16GB, WIN11 Home #product10_detail.html 1149000\n",
      "노트북 에이서 스위프트 GO 16 OLED, 스틸 그레이, 코어i7, 512GB, 16GB, WIN11 Home, SFG16-71-77FT #product1_detail.html 1419000\n",
      "노트북 삼성전자 노트북 플러스2 15.6, 퓨어 화이트, NT550XDA-K24AT, 펜티엄, 256GB, 8GB, WIN11 Pro #product2_detail.html 549000\n",
      "노트북 레노버 아이디어패드 슬림 1 15AMN7 15.6, 256GB, Free DOS, 82VG002EKR, 라이젠3, Cloud Grey (82VG), 8GB #product3_detail.html 529000\n",
      "노트북 레노버 V15 G4 AMN 15.6, Arctic Grey, 라이젠3, 256GB, 8GB, WIN11 Home, 82YU0009KR #product4_detail.html 624000\n",
      "노트북 LG 울트라PC 엣지 16, 차콜 그레이, 라이젠5, 256GB, 16GB, WIN11 Home, 16U70R-GA56K #product5_detail.html 1135000\n",
      "노트북 베이직스 베이직북 14 3세대, BB1422SS, 256GB, White, WIN11 Pro, 셀러론, 8GB #product6_detail.html 398000\n",
      "노트북 레노버 아이디어패드 슬림 5i 14IRL 14, Cloud Grey, 코어i5, 512GB, 16GB, Free DOS, 82XD002XKR #product7_detail.html 899000\n",
      "노트북 레노버 아이디어패드 슬림 5 16IRL 16, Cloud Grey, 512GB, 16GB, Free DOS, 82XF001RKR #product8_detail.html 929000\n",
      "노트북 에이서 스위프트 GO 16 OLED, 스틸 그레이, 코어i5, 512GB, 16GB, Free DOS, SFG16-71-51BY #product9_detail.html 1008000\n",
      "노트북 삼성전자 갤럭시북 2 15.6, 500GB, 실버, NT550XED-K78AS, 코어i7, 16GB, WIN11 Home #product10_detail.html 1149000\n",
      "노트북 레노버 아이디어패드 슬림 1 15AMN7 15.6, 256GB, Free DOS, 82VG002EKR, 라이젠3, Cloud Grey (82VG), 8GB #product3_detail.html 529000\n",
      "노트북 레노버 V15 G4 AMN 15.6, Arctic Grey, 라이젠3, 256GB, 8GB, WIN11 Home, 82YU0009KR #product4_detail.html 624000\n",
      "노트북 베이직스 베이직북 14 3세대, BB1422SS, 256GB, White, WIN11 Pro, 셀러론, 8GB #product6_detail.html 398000\n",
      "데스크탑 HP VICTUS 게이밍 데스크탑 TG02-1000KL (i5-13400F FreeDos RAM 16GB NVMe 512GB RTX3060 Ti), 기본형 #product13_detail.html 1199000\n",
      "데스크탑 델 인스피론 3020 S 슬림 데스크탑 포그 블루 DN3020S-WH02KR (i5-13400 WIN11 Home NVMe 512GB DDR4 8GB), 기본형 #product14_detail.html 719000\n",
      "데스크탑 삼성전자 사무용 게임용 리퍼 중고컴퓨터 i3 i5 i7 GTX1060 무상A/S 1년 새상품SSD, 7번) i5-7세대-미들[게임용 조립] #product16_detail.html 436000\n",
      "데스크탑 삼성전자 삼성 DM500SFZ-AD5A 최신 13세대 CPU-i5 데스크탑 슬림형 PC본체 사무용 컴퓨터 인터넷강의 재택근무 업무용, 블랙 #product17_detail.html 889000\n",
      "데스크탑 HP S01-PF3000KL-WIN11 13세대\n",
      "i5-13400_(NVMe512GB_16GB)HP컴퓨터/슬림PC/사무용PC/HH #product18_detail.html 799000\n",
      "데스크탑 삼성 컴퓨터 본체 조립PC 모니터포함 풀세트 사무용 게이밍 데스크탑 윈도우10, 본체만, 10. 라이젠5600/32G/500/4060 #product19_detail.html 1099000\n",
      "휴대폰 삼성전자 갤럭시 A34 자급제, 어썸 그라파이트, 128GB #product21_detail.html 408400\n",
      "노트북 삼성전자 노트북 플러스2 15.6, 퓨어 화이트, NT550XDA-K24AT, 펜티엄, 256GB, 8GB, WIN11 Pro #product2_detail.html 549000\n",
      "노트북 레노버 V15 G4 AMN 15.6, Arctic Grey, 라이젠3, 256GB, 8GB, WIN11 Home, 82YU0009KR #product4_detail.html 624000\n",
      "노트북 베이직스 베이직북 14 3세대, BB1422SS, 256GB, White, WIN11 Pro, 셀러론, 8GB #product6_detail.html 398000\n",
      "노트북 레노버 아이디어패드 슬림 5i 14IRL 14, Cloud Grey, 코어i5, 512GB, 16GB, Free DOS, 82XD002XKR #product7_detail.html 899000\n",
      "데스크탑 한성컴퓨터 데스크탑 화이트 TFG MX4A500 (라이젠5-5600G WIN미포함 RAM 16GB NVMe 500GB), 기본형 #product11_detail.html 499000\n",
      "데스크탑 컴집 게이밍 조립식 컴퓨터 본체 배틀그라운드 디아블로4 롤 오버워치2 전문가용 건축설계 오토캐드 조립 PC, 게임용1번 #product12_detail.html 699000\n",
      "데스크탑 HP VICTUS 게이밍 데스크탑 TG02-1000KL (i5-13400F FreeDos RAM 16GB NVMe 512GB RTX3060 Ti), 기본형 #product13_detail.html 1199000\n",
      "데스크탑 델 인스피론 3020 S 슬림 데스크탑 포그 블루 DN3020S-WH02KR (i5-13400 WIN11 Home NVMe 512GB DDR4 8GB), 기본형 #product14_detail.html 719000\n",
      "데스크탑 HP S01-PF3000KL-WIN11 13세대\n",
      "i5-13400_(NVMe512GB_16GB)HP컴퓨터/슬림PC/사무용PC/HH #product18_detail.html 799000\n",
      "데스크탑 삼성 컴퓨터 본체 조립PC 모니터포함 풀세트 사무용 게이밍 데스크탑 윈도우10, 본체만, 10. 라이젠5600/32G/500/4060 #product19_detail.html 1099000\n"
     ]
    }
   ],
   "source": [
    "import requests\n",
    "from bs4 import BeautifulSoup\n",
    "\n",
    "for i in range(1, 5) :\n",
    "\n",
    "    response = requests.get(f\"https://startcoding.pythonanywhere.com/basic?keyword={i}\")\n",
    "    html = response.text\n",
    "    soup = BeautifulSoup(html, 'html.parser')\n",
    "    items = soup.select('.product')\n",
    "    for item in items :\n",
    "        category = item.select_one('.product-category').text\n",
    "        name = item.select_one('.product-name').text\n",
    "        link = item.select_one('.product-name > a').attrs['href']\n",
    "        price = item.select_one('.product-price').text.split('원')[0].replace(',' , '')\n",
    "        print(category, name, link, price)\n",
    "\n"
   ]
  }
 ],
 "metadata": {
  "kernelspec": {
   "display_name": "Python 3",
   "language": "python",
   "name": "python3"
  },
  "language_info": {
   "codemirror_mode": {
    "name": "ipython",
    "version": 3
   },
   "file_extension": ".py",
   "mimetype": "text/x-python",
   "name": "python",
   "nbconvert_exporter": "python",
   "pygments_lexer": "ipython3",
   "version": "3.13.0"
  }
 },
 "nbformat": 4,
 "nbformat_minor": 2
}
