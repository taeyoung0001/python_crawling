{
 "cells": [
  {
   "cell_type": "code",
   "execution_count": 5,
   "metadata": {},
   "outputs": [],
   "source": [
    "import requests \n",
    "from bs4 import BeautifulSoup\n",
    "import pandas as pd \n",
    "from selenium import webdriver\n",
    "from selenium.webdriver.common.by import By\n",
    "from selenium.webdriver.common.keys import Keys\n",
    "import time"
   ]
  },
  {
   "cell_type": "code",
   "execution_count": 8,
   "metadata": {},
   "outputs": [],
   "source": [
    "URL = \"https://www.youtube.com/feed/trending?bp=6gQJRkVleHBsb3Jl\"\n",
    "\n",
    "driver = webdriver.Chrome()\n",
    "driver.get(URL)\n",
    "catagoryGame = driver.find_element(By.CSS_SELECTOR, \"#tabsContent > yt-tab-group-shape > div.yt-tab-group-shape-wiz__tabs > yt-tab-shape:nth-child(3) > div.yt-tab-shape-wiz__tab\")\n",
    "catagoryGame.click()\n",
    "# catagoryMovie = driver.find_element(By.CSS_SELECTOR, \"#tabsContent > yt-tab-group-shape > div.yt-tab-group-shape-wiz__tabs > yt-tab-shape.yt-tab-shape-wiz.yt-tab-shape-wiz__tab--last-tab.yt-tab-shape-wiz--host-clickable\")\n",
    "# catagoryMovie.click()\n",
    "driver.find_element(By.TAG_NAME, \"body\").send_keys(Keys.PAGE_DOWN)\n",
    "time.sleep(2)  # 로딩 대기"
   ]
  },
  {
   "cell_type": "code",
   "execution_count": 35,
   "metadata": {},
   "outputs": [
    {
     "name": "stdout",
     "output_type": "stream",
     "text": [
      " 22만\n",
      " 19만\n",
      " 12만\n",
      " 41만\n",
      " 78만\n",
      " 29만\n",
      " 18만\n",
      " 43만\n",
      " 845만\n",
      " 68만\n",
      " 17만\n",
      " 17만\n",
      " 18만\n",
      " 67만\n",
      " 40만\n",
      " 62만\n",
      " 24만\n",
      " 13만\n",
      " 13만\n",
      " 15만\n",
      " 11만\n",
      " 35만\n",
      " 15만\n",
      " 10만\n",
      " 10만\n",
      " 23만\n",
      " 10만\n",
      " 17만\n",
      " 13만\n",
      " 9.2만\n",
      " 9.1만\n",
      " 54만\n",
      " 16만\n",
      " 54만\n",
      " 12만\n",
      " 14만\n",
      " 7.5만\n",
      " 6.4만\n",
      " 13만\n",
      " 6만\n",
      " 10만\n",
      " 14만\n",
      " 8.2만\n",
      " 6.9만\n",
      " 11만\n",
      " 6.6만\n",
      " 29만\n",
      " 22만\n",
      " 7.9만\n",
      " 18만\n"
     ]
    }
   ],
   "source": [
    "html = driver.page_source\n",
    "soup = BeautifulSoup(html, 'html.parser')\n",
    "\n",
    "items = soup.select(\".text-wrapper.style-scope.ytd-video-renderer\")\n",
    "\n",
    "for item in items:\n",
    "    title = item.select_one(\"#video-title\").text\n",
    "    link = \"https://www.youtube.com\"+item.select_one(\"#video-title\").attrs['href']\n",
    "    channel = item.select_one(\".yt-simple-endpoint.style-scope.yt-formatted-string\").text   \n",
    "    channelLink = \"https://www.youtube.com\"+item.select_one(\".yt-simple-endpoint.style-scope.yt-formatted-string\").attrs['href']\n",
    "    view = item.select_one(\".inline-metadata-item.style-scope.ytd-video-meta-block\").text.split(\"조회수\")[1].replace(\"회\", \"\")\n",
    "    print(view)"
   ]
  }
 ],
 "metadata": {
  "kernelspec": {
   "display_name": "Python 3",
   "language": "python",
   "name": "python3"
  },
  "language_info": {
   "codemirror_mode": {
    "name": "ipython",
    "version": 3
   },
   "file_extension": ".py",
   "mimetype": "text/x-python",
   "name": "python",
   "nbconvert_exporter": "python",
   "pygments_lexer": "ipython3",
   "version": "3.13.0"
  }
 },
 "nbformat": 4,
 "nbformat_minor": 2
}
