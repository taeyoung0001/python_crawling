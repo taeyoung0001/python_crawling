{
 "cells": [
  {
   "cell_type": "code",
   "execution_count": null,
   "metadata": {},
   "outputs": [],
   "source": [
    "from bs4 import BeautifulSoup\n",
    "import pandas as pd \n",
    "from selenium import webdriver\n",
    "from selenium.webdriver.common.by import By\n",
    "from selenium.webdriver.common.keys import Keys\n",
    "import time"
   ]
  },
  {
   "cell_type": "code",
   "execution_count": null,
   "metadata": {},
   "outputs": [],
   "source": [
    "URL = \"https://www.youtube.com/feed/trending?bp=6gQJRkVleHBsb3Jl\"\n",
    "\n",
    "driver = webdriver.Chrome()\n",
    "driver.get(URL)\n",
    "catagoryGame = driver.find_element(By.CSS_SELECTOR, \"#tabsContent > yt-tab-group-shape > div.yt-tab-group-shape-wiz__tabs > yt-tab-shape:nth-child(3) > div.yt-tab-shape-wiz__tab\")\n",
    "catagoryGame.click()\n",
    "# catagoryMovie = driver.find_element(By.CSS_SELECTOR, \"#tabsContent > yt-tab-group-shape > div.yt-tab-group-shape-wiz__tabs > yt-tab-shape.yt-tab-shape-wiz.yt-tab-shape-wiz__tab--last-tab.yt-tab-shape-wiz--host-clickable\")\n",
    "# catagoryMovie.click()\n",
    "driver.find_element(By.TAG_NAME, \"body\").send_keys(Keys.PAGE_DOWN)\n",
    "time.sleep(2)  # 로딩 대기\n",
    "html = driver.page_source\n",
    "soup = BeautifulSoup(html, 'html.parser')\n",
    "\n",
    "items = soup.select(\".text-wrapper.style-scope.ytd-video-renderer\")\n",
    "\n",
    "for item in items:\n",
    "    title = item.select_one(\"#video-title\").text\n",
    "    link = \"https://www.youtube.com\"+item.select_one(\"#video-title\").attrs['href']\n",
    "    channel = item.select_one(\".yt-simple-endpoint.style-scope.yt-formatted-string\").text   \n",
    "    channelLink = \"https://www.youtube.com\"+item.select_one(\".yt-simple-endpoint.style-scope.yt-formatted-string\").attrs['href']\n",
    "    view = item.select_one(\".inline-metadata-item.style-scope.ytd-video-meta-block\").text.split(\"조회수\")[1].replace(\"회\", \"\")\n",
    "    print(view)"
   ]
  }
 ],
 "metadata": {
  "kernelspec": {
   "display_name": "Python 3",
   "language": "python",
   "name": "python3"
  },
  "language_info": {
   "codemirror_mode": {
    "name": "ipython",
    "version": 3
   },
   "file_extension": ".py",
   "mimetype": "text/x-python",
   "name": "python",
   "nbconvert_exporter": "python",
   "pygments_lexer": "ipython3",
   "version": "3.13.1"
  }
 },
 "nbformat": 4,
 "nbformat_minor": 2
}
