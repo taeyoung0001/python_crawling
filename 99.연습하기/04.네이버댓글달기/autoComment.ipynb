{
 "cells": [
  {
   "cell_type": "code",
   "execution_count": 140,
   "metadata": {},
   "outputs": [],
   "source": [
    "from bs4 import BeautifulSoup\n",
    "import pandas as pd \n",
    "from selenium import webdriver\n",
    "from selenium.webdriver.common.by import By\n",
    "from selenium.webdriver.common.keys import Keys\n",
    "from selenium.webdriver.support import expected_conditions as EC\n",
    "import time\n",
    "import pyperclip"
   ]
  },
  {
   "cell_type": "code",
   "execution_count": 141,
   "metadata": {},
   "outputs": [],
   "source": [
    "# URL = \"https://nid.naver.com/nidlogin.login?mode=form&url=https://www.naver.com/\"\n",
    "# URL_blog = \"https://section.blog.naver.com/ThemePost.naver?directoryNo=5&activeDirectorySeq=1&currentPage=1\"\n",
    "\n",
    "# # 로그인 창 띄우기\n",
    "# driver = webdriver.Chrome()\n",
    "# driver.get(URL)\n",
    "# time.sleep(1)\n",
    "# # 로그인 하기\n",
    "# Id = \"her020212\"\n",
    "# Pw = \"Hh15300602!?!\"\n",
    "# #아이디 입력\n",
    "# inputId = driver.find_element(By.CSS_SELECTOR, \"#id\")\n",
    "# pyperclip.copy(Id)\n",
    "# inputId.send_keys(Keys.CONTROL, \"v\")\n",
    "# time.sleep(1)\n",
    "\n",
    "# # 비밀번호 입력\n",
    "# inputPw = driver.find_element(By.CSS_SELECTOR, \"#pw\")\n",
    "# pyperclip.copy(Pw)\n",
    "# inputPw.send_keys(Keys.CONTROL, \"v\")\n",
    "# time.sleep(1)\n",
    "\n",
    "# #로그인 버튼\n",
    "# Login_btn = driver.find_element(By.CSS_SELECTOR, \".btn_text\")\n",
    "# Login_btn.click()\n",
    "# time.sleep(1)\n",
    "\n",
    "# # 등록\n",
    "# continueLogIn = driver.find_element(By.CSS_SELECTOR, \"#new\\\\.save\")\n",
    "# continueLogIn.click()\n",
    "# time.sleep(1)\n",
    "# # driver.quit()"
   ]
  },
  {
   "cell_type": "code",
   "execution_count": 149,
   "metadata": {},
   "outputs": [],
   "source": [
    "URL = \"https://nid.naver.com/nidlogin.login?mode=form&url=https://www.naver.com/\"\n",
    "URL_blog = \"https://section.blog.naver.com/ThemePost.naver?directoryNo=5&activeDirectorySeq=1&currentPage=1\"\n",
    "\n",
    "# 로그인 창 띄우기\n",
    "driver = webdriver.Chrome()\n",
    "\n",
    "driver.get(URL_blog)\n",
    "\n",
    "html = driver.page_source\n",
    "soup = BeautifulSoup(html, 'html.parser')"
   ]
  },
  {
   "cell_type": "code",
   "execution_count": 150,
   "metadata": {},
   "outputs": [
    {
     "name": "stdout",
     "output_type": "stream",
     "text": [
      "댓글 단 블로그 제목 :김미경의 딥마인드 책 읽어봤어요.(feat. BOD 뜻)\n",
      "댓글 단 블로그 링크 :https://blog.naver.com/minmindream/223690051379\n",
      "**************\n",
      "스크롤 끝\n",
      "댓글 단 블로그 제목 :[전문] 🏆2024 노벨문학상 수상 한강 작가🏆시상 연설문\n",
      "댓글 단 블로그 링크 :https://blog.naver.com/munhakdongne/223689991010\n",
      "**************\n",
      "스크롤 끝\n"
     ]
    },
    {
     "ename": "KeyboardInterrupt",
     "evalue": "",
     "output_type": "error",
     "traceback": [
      "\u001b[1;31m---------------------------------------------------------------------------\u001b[0m",
      "\u001b[1;31mKeyboardInterrupt\u001b[0m                         Traceback (most recent call last)",
      "Cell \u001b[1;32mIn[150], line 28\u001b[0m\n\u001b[0;32m     26\u001b[0m \u001b[38;5;28;01mif\u001b[39;00m new_height \u001b[38;5;241m==\u001b[39m last_height:\n\u001b[0;32m     27\u001b[0m     \u001b[38;5;28mprint\u001b[39m(\u001b[38;5;124m\"\u001b[39m\u001b[38;5;124m스크롤 끝\u001b[39m\u001b[38;5;124m\"\u001b[39m)\n\u001b[1;32m---> 28\u001b[0m     \u001b[43mtime\u001b[49m\u001b[38;5;241;43m.\u001b[39;49m\u001b[43msleep\u001b[49m\u001b[43m(\u001b[49m\u001b[38;5;241;43m10\u001b[39;49m\u001b[43m)\u001b[49m\n\u001b[0;32m     29\u001b[0m     \u001b[38;5;28;01mbreak\u001b[39;00m\n\u001b[0;32m     30\u001b[0m  \u001b[38;5;66;03m# 스크롤 전 높이 업데이트\u001b[39;00m\n",
      "\u001b[1;31mKeyboardInterrupt\u001b[0m: "
     ]
    }
   ],
   "source": [
    "items = soup.select(\".info_post\")\n",
    "\n",
    "for item in items:\n",
    "    title = item.select_one(\".title_post\").text\n",
    "    link = item.select_one(\".desc_inner\").attrs[\"href\"]\n",
    "    print(f\"댓글 단 블로그 제목 :{title}\")\n",
    "    print(f\"댓글 단 블로그 링크 :{link}\")\n",
    "    print(\"**************\")\n",
    "    driver.get(link)\n",
    "\n",
    "    # 현재 높이 가져오기\n",
    "    last_height = driver.execute_script(\"return document.body.scrollHeight\")\n",
    "\n",
    "    # 무한 스크롤\n",
    "    while True:\n",
    "        # 스크롤 끝까지 내리기\n",
    "        driver.execute_script(\"window.scrollTo(0, document.body.scrollHeight)\")\n",
    "\n",
    "        # 잠시 대기(컴퓨터에게 로딩 시간을 줘야 함)\n",
    "        time.sleep(2)\n",
    "\n",
    "        # 스크롤 후 높이 가져오기\n",
    "        new_height = driver.execute_script(\"return document.body.scrollHeight\")\n",
    "\n",
    "        # 스크롤이 더 이상 내려가지 않으면 중단\n",
    "        if new_height == last_height:\n",
    "            print(\"스크롤 끝\")\n",
    "            time.sleep(10)\n",
    "            break\n",
    "         # 스크롤 전 높이 업데이트\n",
    "        last_height = new_height \n",
    "        \n",
    "\n",
    "        # 원하는 셀렉터 위치로 이동\n",
    "        time.sleep(5)\n",
    "        addComment = \"#printPost1 > tbody > tr > td.bcc > div.post-btn.post_btn2 > div.wrap_postcomment > div.area_comment.pcol2 > i.aline\"\n",
    "        driver.find_element(By.CSS_SELECTOR, addComment).click()\n",
    "        time.sleep(20)\n",
    "        print(\"찾았어요\")   "
   ]
  }
 ],
 "metadata": {
  "kernelspec": {
   "display_name": "Python 3",
   "language": "python",
   "name": "python3"
  },
  "language_info": {
   "codemirror_mode": {
    "name": "ipython",
    "version": 3
   },
   "file_extension": ".py",
   "mimetype": "text/x-python",
   "name": "python",
   "nbconvert_exporter": "python",
   "pygments_lexer": "ipython3",
   "version": "3.13.1"
  }
 },
 "nbformat": 4,
 "nbformat_minor": 2
}
